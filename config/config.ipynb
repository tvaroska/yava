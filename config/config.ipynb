{
 "cells": [
  {
   "cell_type": "markdown",
   "id": "449b14b8-b1e1-4cee-a73a-f2d4867841c9",
   "metadata": {},
   "source": [
    "# Config agent\n",
    "\n",
    "Chat to fill in config variables in State"
   ]
  },
  {
   "cell_type": "code",
   "execution_count": 1,
   "id": "1465dc13-71de-45bf-b321-6e13c61a8923",
   "metadata": {},
   "outputs": [],
   "source": [
    "from typing import Optional, List, Dict, Union, TypedDict, Annotated\n",
    "\n",
    "import sqlite3\n",
    "\n",
    "from datetime import date, datetime\n",
    "from pydantic import BaseModel, Field\n",
    "\n",
    "from langchain_core.messages import SystemMessage, HumanMessage, AIMessage\n",
    "from langchain_core.runnables.config import RunnableConfig\n",
    "from langchain_core.tools import tool\n",
    "\n",
    "from langchain_google_vertexai import ChatVertexAI\n",
    "\n",
    "from langgraph.graph import END, START, StateGraph\n",
    "from langgraph.graph.message import add_messages\n",
    "from langgraph.checkpoint.sqlite import SqliteSaver\n",
    "from langgraph.checkpoint.memory import MemorySaver\n",
    "from langgraph.prebuilt import ToolNode\n",
    "\n",
    "from promptgit import Prompt"
   ]
  },
  {
   "cell_type": "code",
   "execution_count": 2,
   "id": "cce798fd-6637-4de1-8477-ea781c18a9da",
   "metadata": {},
   "outputs": [],
   "source": [
    "def add_dict(a, b):\n",
    "    for key, value in b.items():\n",
    "        a[key] = value\n",
    "\n",
    "    return a"
   ]
  },
  {
   "cell_type": "code",
   "execution_count": 3,
   "id": "b6113823-5a1c-49b0-9121-85cca510d430",
   "metadata": {},
   "outputs": [],
   "source": [
    "class ConfigState(BaseModel):\n",
    "    config: Annotated[Dict[str, str], add_dict]\n",
    "    name: str = None\n",
    "    street: str = None\n",
    "    city: str = None\n",
    "    messages: Annotated[list, add_messages] = []"
   ]
  },
  {
   "cell_type": "markdown",
   "id": "4a64cfc7-f170-4019-8a59-b2d51a5d45fc",
   "metadata": {},
   "source": [
    "## Dynamicaly create tools ??\n",
    "\n",
    "List[str, Tuple]"
   ]
  },
  {
   "cell_type": "code",
   "execution_count": 4,
   "id": "80aff963-44d7-4d82-acc9-69d8ccac1d2d",
   "metadata": {},
   "outputs": [],
   "source": [
    "@tool\n",
    "def update_name(name: str, config: RunnableConfig):\n",
    "    \"\"\" \n",
    "    Update name\n",
    "    \"\"\"\n",
    "    return {'config':{'name': name}}\n",
    "\n",
    "@tool\n",
    "def update_adress(street: str, city: str, config: RunnableConfig):\n",
    "    \"\"\"\n",
    "    Update adress. Need both street and city\n",
    "    \"\"\"\n",
    "    return {'config':{'street': street, 'city': city}}\n",
    "\n",
    "tool_node = ToolNode([update_name, update_adress])"
   ]
  },
  {
   "cell_type": "code",
   "execution_count": 5,
   "id": "412cc362-f0f8-4a4a-a884-76d385af0d7e",
   "metadata": {},
   "outputs": [],
   "source": [
    "def initialize(state: ConfigState, config: RunnableConfig):\n",
    "    if state.messages == []:\n",
    "        return {'messages': [\n",
    "            SystemMessage('You are setting user in the application. Your aim is to fill all the data in short conversation. Please provide name and adress (city and street)'), \n",
    "        ]}\n",
    "    else:\n",
    "        return"
   ]
  },
  {
   "cell_type": "code",
   "execution_count": 6,
   "id": "ce970c75-a714-48f5-94c0-0e3c7ff49590",
   "metadata": {},
   "outputs": [],
   "source": [
    "def chatbot(state: ConfigState, config: RunnableConfig):\n",
    "    return {'messages':[llm.invoke(state.messages)]}"
   ]
  },
  {
   "cell_type": "code",
   "execution_count": 7,
   "id": "44e10520-4eda-4126-bfbc-4f140e664b01",
   "metadata": {},
   "outputs": [],
   "source": [
    "# def tool_condition():\n",
    "#     pass\n",
    "from langgraph.prebuilt import tools_condition"
   ]
  },
  {
   "cell_type": "code",
   "execution_count": 8,
   "id": "1234dc84-5e38-40ea-8882-95be378183bd",
   "metadata": {},
   "outputs": [],
   "source": [
    "llm = ChatVertexAI(model='gemini-1.5-flash-002').bind_tools([update_name, update_adress])\n",
    "\n",
    "# checkpointer = SqliteSaver(sqlite3.connect('checkpoints.sqlite', check_same_thread=False))\n",
    "checkpointer = MemorySaver()"
   ]
  },
  {
   "cell_type": "code",
   "execution_count": 9,
   "id": "15a999c7-6a4f-494d-9b3b-c0a738f7decb",
   "metadata": {},
   "outputs": [],
   "source": [
    "graph_builder = StateGraph(ConfigState)\n",
    "\n",
    "graph_builder.add_node(\"initialize\", initialize)\n",
    "graph_builder.add_node(\"chatbot\", chatbot)\n",
    "graph_builder.add_node(\"tools\", tool_node)\n",
    "\n",
    "graph_builder.add_edge(START, \"initialize\")\n",
    "graph_builder.add_edge(\"initialize\", \"chatbot\")\n",
    "graph_builder.add_edge(\"chatbot\", \"tools\")\n",
    "graph_builder.add_edge(\"tools\", END)\n",
    "\n",
    "graph = graph_builder.compile(checkpointer=checkpointer, interrupt_before=['chatbot'])"
   ]
  },
  {
   "cell_type": "code",
   "execution_count": 10,
   "id": "458c1ecc-73dc-442b-9878-f6a037752533",
   "metadata": {},
   "outputs": [],
   "source": [
    "config = {\"configurable\": {\"thread_id\": \"42\"}}"
   ]
  },
  {
   "cell_type": "code",
   "execution_count": 11,
   "id": "216188d3-5a11-497c-bcac-e6f174e300f2",
   "metadata": {},
   "outputs": [],
   "source": [
    "response = graph.invoke({'messages':[]}, config)"
   ]
  },
  {
   "cell_type": "code",
   "execution_count": 12,
   "id": "5b8c9b8e-21de-4b4a-b0e9-5d7671beb9a5",
   "metadata": {},
   "outputs": [],
   "source": [
    "x = graph.get_state(config)"
   ]
  },
  {
   "cell_type": "code",
   "execution_count": 13,
   "id": "4c25f776-cc30-4f79-9a4f-65f5542e4183",
   "metadata": {},
   "outputs": [
    {
     "data": {
      "text/plain": [
       "[SystemMessage(content='You are setting user in the application. Your aim is to fill all the data in short conversation. Please provide name and adress (city and street)', additional_kwargs={}, response_metadata={}, id='34529785-90c4-452a-a4c0-f384370e7516')]"
      ]
     },
     "execution_count": 13,
     "metadata": {},
     "output_type": "execute_result"
    }
   ],
   "source": [
    "x.values['messages']"
   ]
  },
  {
   "cell_type": "code",
   "execution_count": 14,
   "id": "e57dbb38-712d-4672-9882-a91d44ac71ff",
   "metadata": {},
   "outputs": [
    {
     "data": {
      "text/plain": [
       "{'configurable': {'thread_id': '42',\n",
       "  'checkpoint_ns': '',\n",
       "  'checkpoint_id': '1ef94b2b-65ed-65a9-8002-6034f82a31f9'}}"
      ]
     },
     "execution_count": 14,
     "metadata": {},
     "output_type": "execute_result"
    }
   ],
   "source": [
    "graph.update_state(config, {'messages':HumanMessage('My name is Boris')})"
   ]
  },
  {
   "cell_type": "code",
   "execution_count": 15,
   "id": "59112dc8-6073-407f-8564-328f8490d001",
   "metadata": {},
   "outputs": [],
   "source": [
    "response = graph.invoke(None, config)"
   ]
  },
  {
   "cell_type": "code",
   "execution_count": 21,
   "id": "639ef56d-ed57-4a4f-b57b-8230c14d688e",
   "metadata": {},
   "outputs": [
    {
     "data": {
      "text/plain": [
       "{'config': {},\n",
       " 'messages': [SystemMessage(content='You are setting user in the application. Your aim is to fill all the data in short conversation. Please provide name and adress (city and street)', additional_kwargs={}, response_metadata={}, id='34529785-90c4-452a-a4c0-f384370e7516'),\n",
       "  HumanMessage(content='My name is Boris', additional_kwargs={}, response_metadata={}, id='83f87480-e69d-4cdb-aad9-f906a6fa375c'),\n",
       "  AIMessage(content='', additional_kwargs={'function_call': {'name': 'update_name', 'arguments': '{\"name\": \"Boris\"}'}}, response_metadata={'is_blocked': False, 'safety_ratings': [], 'usage_metadata': {'prompt_token_count': 56, 'candidates_token_count': 5, 'total_token_count': 61, 'cached_content_token_count': 0}, 'finish_reason': 'STOP'}, id='run-4606711f-ab37-4118-b2b4-13033632b0cb-0', tool_calls=[{'name': 'update_name', 'args': {'name': 'Boris'}, 'id': 'dd20cb9a-d9f7-49bc-9384-1b22870dd23e', 'type': 'tool_call'}], usage_metadata={'input_tokens': 56, 'output_tokens': 5, 'total_tokens': 61}),\n",
       "  ToolMessage(content='{\"config\": {\"name\": \"Boris\"}}', name='update_name', id='599b2a01-f9f5-4617-a4ee-af5ae576908f', tool_call_id='dd20cb9a-d9f7-49bc-9384-1b22870dd23e')]}"
      ]
     },
     "execution_count": 21,
     "metadata": {},
     "output_type": "execute_result"
    }
   ],
   "source": [
    "response"
   ]
  },
  {
   "cell_type": "code",
   "execution_count": 17,
   "id": "e58974ff-7439-4a98-92ec-ee45925647ba",
   "metadata": {},
   "outputs": [
    {
     "data": {
      "text/plain": [
       "StateSnapshot(values={'config': {}, 'messages': [SystemMessage(content='You are setting user in the application. Your aim is to fill all the data in short conversation. Please provide name and adress (city and street)', additional_kwargs={}, response_metadata={}, id='34529785-90c4-452a-a4c0-f384370e7516'), HumanMessage(content='My name is Boris', additional_kwargs={}, response_metadata={}, id='83f87480-e69d-4cdb-aad9-f906a6fa375c'), AIMessage(content='', additional_kwargs={'function_call': {'name': 'update_name', 'arguments': '{\"name\": \"Boris\"}'}}, response_metadata={'is_blocked': False, 'safety_ratings': [], 'usage_metadata': {'prompt_token_count': 56, 'candidates_token_count': 5, 'total_token_count': 61, 'cached_content_token_count': 0}, 'finish_reason': 'STOP'}, id='run-4606711f-ab37-4118-b2b4-13033632b0cb-0', tool_calls=[{'name': 'update_name', 'args': {'name': 'Boris'}, 'id': 'dd20cb9a-d9f7-49bc-9384-1b22870dd23e', 'type': 'tool_call'}], usage_metadata={'input_tokens': 56, 'output_tokens': 5, 'total_tokens': 61}), ToolMessage(content='{\"config\": {\"name\": \"Boris\"}}', name='update_name', id='599b2a01-f9f5-4617-a4ee-af5ae576908f', tool_call_id='dd20cb9a-d9f7-49bc-9384-1b22870dd23e')]}, next=(), config={'configurable': {'thread_id': '42', 'checkpoint_ns': '', 'checkpoint_id': '1ef94b2b-6960-6d4b-8004-40032b38be0f'}}, metadata={'source': 'loop', 'writes': {'tools': {'messages': [ToolMessage(content='{\"config\": {\"name\": \"Boris\"}}', name='update_name', id='599b2a01-f9f5-4617-a4ee-af5ae576908f', tool_call_id='dd20cb9a-d9f7-49bc-9384-1b22870dd23e')]}}, 'step': 4, 'parents': {}}, created_at='2024-10-27T22:27:56.015102+00:00', parent_config={'configurable': {'thread_id': '42', 'checkpoint_ns': '', 'checkpoint_id': '1ef94b2b-6959-6d7a-8003-63aa903920bd'}}, tasks=())"
      ]
     },
     "execution_count": 17,
     "metadata": {},
     "output_type": "execute_result"
    }
   ],
   "source": [
    "graph.get_state(config)"
   ]
  },
  {
   "cell_type": "code",
   "execution_count": null,
   "id": "d9afe6dc-e348-49a9-b019-6aad660a2e65",
   "metadata": {},
   "outputs": [],
   "source": []
  }
 ],
 "metadata": {
  "kernelspec": {
   "display_name": "Python 3 (ipykernel)",
   "language": "python",
   "name": "python3"
  },
  "language_info": {
   "codemirror_mode": {
    "name": "ipython",
    "version": 3
   },
   "file_extension": ".py",
   "mimetype": "text/x-python",
   "name": "python",
   "nbconvert_exporter": "python",
   "pygments_lexer": "ipython3",
   "version": "3.12.6"
  }
 },
 "nbformat": 4,
 "nbformat_minor": 5
}
