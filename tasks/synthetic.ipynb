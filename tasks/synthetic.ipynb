{
 "cells": [
  {
   "cell_type": "code",
   "execution_count": 6,
   "id": "15fe9056-c9f1-42bc-ac8b-8d49084de33e",
   "metadata": {},
   "outputs": [],
   "source": [
    "from typing import List\n",
    "from pydantic import BaseModel\n",
    "\n",
    "from langchain_core.prompts import ChatPromptTemplate\n",
    "\n",
    "from langchain_google_vertexai import ChatVertexAI\n",
    "from langchain_google_vertexai.model_garden import ChatAnthropicVertex"
   ]
  },
  {
   "cell_type": "code",
   "execution_count": 2,
   "id": "7e2a43b1-af90-4dd8-a2fa-53604ef6dfcd",
   "metadata": {},
   "outputs": [],
   "source": [
    "class Tasks(BaseModel):\n",
    "    notes: List[str]"
   ]
  },
  {
   "cell_type": "code",
   "execution_count": 22,
   "id": "31d80aef-5088-45dc-9c82-bb1ec414b79f",
   "metadata": {},
   "outputs": [],
   "source": [
    "SYSTEM = \"\"\"You are an generator of synthetic data. \n",
    "<EXAMPLES>\n",
    "<PERSONA>high school student</PERSONA>\n",
    "<NOTE>starting school, I need to submit my summer work for physics and request transfer to AP US Histrory</NOTE>\n",
    "<NOTE>new homework - finish Khan Academy unit 1 till next Monday, prepare list of articles for research</NOTE>\n",
    "</EXAMPLES>\n",
    "\n",
    "Generate at least 25 items\"\"\""
   ]
  },
  {
   "cell_type": "code",
   "execution_count": 23,
   "id": "029b6c0c-559a-43ec-b0f0-506238a27c18",
   "metadata": {},
   "outputs": [],
   "source": [
    "template = ChatPromptTemplate([\n",
    "    (\"system\", SYSTEM),\n",
    "    (\"user\", \"Create list of example notes from high school student about his school assignments and homework. His aim is to collect his tasks. Easch note should contain multiple tasks, some for today and tomorow, some for multiple days in advance. His tasks should be Use informal language and you may use some typos\") \n",
    "])"
   ]
  },
  {
   "cell_type": "code",
   "execution_count": 24,
   "id": "09f4b3c2-13a8-4022-8859-45eae870afe2",
   "metadata": {},
   "outputs": [],
   "source": [
    "# llm = ChatAnthropicVertex(\n",
    "#     model_name=\"claude-3-5-sonnet@20240620\",\n",
    "#     project='boris001',\n",
    "#     location='us-east5'\n",
    "llm = ChatVertexAI(model='gemini-1.5-pro-002'\n",
    ").with_structured_output(Tasks, )"
   ]
  },
  {
   "cell_type": "code",
   "execution_count": 25,
   "id": "ffb166b7-b8af-4db8-b97e-4dc90761e08c",
   "metadata": {},
   "outputs": [
    {
     "name": "stderr",
     "output_type": "stream",
     "text": [
      "This model can reply with multiple function calls in one response. Please don't rely on `additional_kwargs.function_call` as only the last one will be saved.Use `tool_calls` instead.\n",
      "This model can reply with multiple function calls in one response. Please don't rely on `additional_kwargs.function_call` as only the last one will be saved.Use `tool_calls` instead.\n",
      "This model can reply with multiple function calls in one response. Please don't rely on `additional_kwargs.function_call` as only the last one will be saved.Use `tool_calls` instead.\n",
      "This model can reply with multiple function calls in one response. Please don't rely on `additional_kwargs.function_call` as only the last one will be saved.Use `tool_calls` instead.\n",
      "This model can reply with multiple function calls in one response. Please don't rely on `additional_kwargs.function_call` as only the last one will be saved.Use `tool_calls` instead.\n",
      "This model can reply with multiple function calls in one response. Please don't rely on `additional_kwargs.function_call` as only the last one will be saved.Use `tool_calls` instead.\n",
      "This model can reply with multiple function calls in one response. Please don't rely on `additional_kwargs.function_call` as only the last one will be saved.Use `tool_calls` instead.\n",
      "This model can reply with multiple function calls in one response. Please don't rely on `additional_kwargs.function_call` as only the last one will be saved.Use `tool_calls` instead.\n",
      "This model can reply with multiple function calls in one response. Please don't rely on `additional_kwargs.function_call` as only the last one will be saved.Use `tool_calls` instead.\n",
      "This model can reply with multiple function calls in one response. Please don't rely on `additional_kwargs.function_call` as only the last one will be saved.Use `tool_calls` instead.\n",
      "This model can reply with multiple function calls in one response. Please don't rely on `additional_kwargs.function_call` as only the last one will be saved.Use `tool_calls` instead.\n",
      "This model can reply with multiple function calls in one response. Please don't rely on `additional_kwargs.function_call` as only the last one will be saved.Use `tool_calls` instead.\n",
      "This model can reply with multiple function calls in one response. Please don't rely on `additional_kwargs.function_call` as only the last one will be saved.Use `tool_calls` instead.\n",
      "This model can reply with multiple function calls in one response. Please don't rely on `additional_kwargs.function_call` as only the last one will be saved.Use `tool_calls` instead.\n",
      "This model can reply with multiple function calls in one response. Please don't rely on `additional_kwargs.function_call` as only the last one will be saved.Use `tool_calls` instead.\n",
      "This model can reply with multiple function calls in one response. Please don't rely on `additional_kwargs.function_call` as only the last one will be saved.Use `tool_calls` instead.\n",
      "This model can reply with multiple function calls in one response. Please don't rely on `additional_kwargs.function_call` as only the last one will be saved.Use `tool_calls` instead.\n",
      "This model can reply with multiple function calls in one response. Please don't rely on `additional_kwargs.function_call` as only the last one will be saved.Use `tool_calls` instead.\n",
      "This model can reply with multiple function calls in one response. Please don't rely on `additional_kwargs.function_call` as only the last one will be saved.Use `tool_calls` instead.\n",
      "This model can reply with multiple function calls in one response. Please don't rely on `additional_kwargs.function_call` as only the last one will be saved.Use `tool_calls` instead.\n",
      "This model can reply with multiple function calls in one response. Please don't rely on `additional_kwargs.function_call` as only the last one will be saved.Use `tool_calls` instead.\n",
      "This model can reply with multiple function calls in one response. Please don't rely on `additional_kwargs.function_call` as only the last one will be saved.Use `tool_calls` instead.\n"
     ]
    }
   ],
   "source": [
    "data = (template | llm).invoke({})"
   ]
  },
  {
   "cell_type": "code",
   "execution_count": 26,
   "id": "5bde1b9b-0683-472d-a646-d119bd16cc6a",
   "metadata": {},
   "outputs": [
    {
     "data": {
      "text/plain": [
       "5"
      ]
     },
     "execution_count": 26,
     "metadata": {},
     "output_type": "execute_result"
    }
   ],
   "source": [
    "len(data.notes)"
   ]
  },
  {
   "cell_type": "code",
   "execution_count": 28,
   "id": "9a778803-966f-4d3e-801c-de9f4b3ff9c4",
   "metadata": {},
   "outputs": [
    {
     "data": {
      "text/plain": [
       "'Math homework: complete worksheet on quadratic equations. Due Friday.'"
      ]
     },
     "execution_count": 28,
     "metadata": {},
     "output_type": "execute_result"
    }
   ],
   "source": [
    "data.notes[1]"
   ]
  },
  {
   "cell_type": "code",
   "execution_count": null,
   "id": "9bf15fe7-58b3-41ee-86d9-857fd955306c",
   "metadata": {},
   "outputs": [],
   "source": []
  }
 ],
 "metadata": {
  "kernelspec": {
   "display_name": "Python 3 (ipykernel)",
   "language": "python",
   "name": "python3"
  },
  "language_info": {
   "codemirror_mode": {
    "name": "ipython",
    "version": 3
   },
   "file_extension": ".py",
   "mimetype": "text/x-python",
   "name": "python",
   "nbconvert_exporter": "python",
   "pygments_lexer": "ipython3",
   "version": "3.12.6"
  }
 },
 "nbformat": 4,
 "nbformat_minor": 5
}
