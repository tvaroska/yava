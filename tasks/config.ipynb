{
 "cells": [
  {
   "cell_type": "markdown",
   "id": "449b14b8-b1e1-4cee-a73a-f2d4867841c9",
   "metadata": {},
   "source": [
    "# Config agent\n",
    "\n",
    "Chat to fill in config variables in State"
   ]
  },
  {
   "cell_type": "code",
   "execution_count": 1,
   "id": "1465dc13-71de-45bf-b321-6e13c61a8923",
   "metadata": {},
   "outputs": [],
   "source": [
    "from typing import Optional, List, Union, TypedDict, Annotated\n",
    "\n",
    "from datetime import date, datetime\n",
    "from pydantic import BaseModel, Field\n",
    "\n",
    "from langchain_core.messages import SystemMessage, HumanMessage, AIMessage\n",
    "from langchain_core.runnables.config import RunnableConfig\n",
    "from langchain_core.tools import tool\n",
    "\n",
    "from langchain_google_vertexai import ChatVertexAI\n",
    "\n",
    "from langgraph.graph import END, START, StateGraph\n",
    "from langgraph.graph.message import add_messages\n",
    "from langgraph.checkpoint.sqlite import SqliteSaver\n",
    "\n",
    "from promptgit import Prompt"
   ]
  },
  {
   "cell_type": "code",
   "execution_count": 2,
   "id": "b6113823-5a1c-49b0-9121-85cca510d430",
   "metadata": {},
   "outputs": [],
   "source": [
    "class ConfigState(BaseModel):\n",
    "    name: str = None\n",
    "    street: str = None\n",
    "    city: str = None\n",
    "    messages: Annotated[list, add_messages] = []"
   ]
  },
  {
   "cell_type": "code",
   "execution_count": 3,
   "id": "80aff963-44d7-4d82-acc9-69d8ccac1d2d",
   "metadata": {},
   "outputs": [],
   "source": [
    "@tool\n",
    "def update_name(name: str, config: RunnableConfig):\n",
    "    \"\"\" \n",
    "    Update name\n",
    "    \"\"\"\n",
    "    return {'name': name}\n",
    "\n",
    "@tool\n",
    "def update_adress(street: str, city: str, config: RunnableConfig):\n",
    "    \"\"\"\n",
    "    Update adress. Need both street and city\n",
    "    \"\"\"\n",
    "    return {'street': street, 'city': city}"
   ]
  },
  {
   "cell_type": "code",
   "execution_count": 11,
   "id": "412cc362-f0f8-4a4a-a884-76d385af0d7e",
   "metadata": {},
   "outputs": [],
   "source": [
    "def initialize(state: ConfigState, config: RunnableConfig):\n",
    "    if state.messages == []:\n",
    "        return {'messages': [\n",
    "            SystemMessage('You are setting user in the application. Your aim is to fill all the data in short conversation. Please provide name and adress (city and street)'), \n",
    "            HumanMessage('Hi'),\n",
    "#            AIMessage('Please provide name and adress (city and street)')\n",
    "        ]}\n",
    "    else:\n",
    "        return"
   ]
  },
  {
   "cell_type": "code",
   "execution_count": 12,
   "id": "ce970c75-a714-48f5-94c0-0e3c7ff49590",
   "metadata": {},
   "outputs": [],
   "source": [
    "def chatbot(state: ConfigState, config: RunnableConfig):\n",
    "    return {'messages':[llm.invoke(state.messages)]}"
   ]
  },
  {
   "cell_type": "code",
   "execution_count": 13,
   "id": "44e10520-4eda-4126-bfbc-4f140e664b01",
   "metadata": {},
   "outputs": [],
   "source": [
    "# def tool_condition():\n",
    "#     pass\n",
    "from langgraph.prebuilt import tools_condition"
   ]
  },
  {
   "cell_type": "code",
   "execution_count": 14,
   "id": "1234dc84-5e38-40ea-8882-95be378183bd",
   "metadata": {},
   "outputs": [],
   "source": [
    "llm = ChatVertexAI(model='gemini-1.5-flash-002').bind_tools([update_name, update_adress])"
   ]
  },
  {
   "cell_type": "code",
   "execution_count": 15,
   "id": "ea53ac3b-bf68-429c-ad19-abffa3d1cb13",
   "metadata": {},
   "outputs": [
    {
     "name": "stderr",
     "output_type": "stream",
     "text": [
      "This model can reply with multiple function calls in one response. Please don't rely on `additional_kwargs.function_call` as only the last one will be saved.Use `tool_calls` instead.\n"
     ]
    },
    {
     "data": {
      "text/plain": [
       "AIMessage(content='', additional_kwargs={'function_call': {'name': 'update_adress', 'arguments': '{\"street\": \"Colonial Ave\", \"city\": \"Pelham\"}'}}, response_metadata={'is_blocked': False, 'safety_ratings': [], 'usage_metadata': {'prompt_token_count': 48, 'candidates_token_count': 14, 'total_token_count': 62, 'cached_content_token_count': 0}, 'finish_reason': 'STOP'}, id='run-1416a654-de49-4c28-86bb-e2838c3a0f92-0', tool_calls=[{'name': 'update_name', 'args': {'name': 'Boris'}, 'id': '5b8f8c60-e962-4ecc-a726-d081fdbcf8aa', 'type': 'tool_call'}, {'name': 'update_adress', 'args': {'street': 'Colonial Ave', 'city': 'Pelham'}, 'id': 'bf101d9d-3c92-47a1-8db7-00625931f752', 'type': 'tool_call'}], usage_metadata={'input_tokens': 48, 'output_tokens': 14, 'total_tokens': 62})"
      ]
     },
     "execution_count": 15,
     "metadata": {},
     "output_type": "execute_result"
    }
   ],
   "source": [
    "llm.invoke([\n",
    "    HumanMessage('Hi'), \n",
    "    AIMessage('Let`s set up your account. What is your name and adress (street and city)'), \n",
    "    HumanMessage('Boris, Colonial Ave, Pelham')\n",
    "    # HumanMessage('OK, I`m Boris'), \n",
    "    # AIMessage('Thank you, how about adress? No need to update_name'), \n",
    "    # HumanMessage('I live in Pelham'),\n",
    "    # AIMessage('What is the street name?'),\n",
    "    # HumanMessage('Colonial abenue')\n",
    "])"
   ]
  },
  {
   "cell_type": "code",
   "execution_count": 16,
   "id": "15a999c7-6a4f-494d-9b3b-c0a738f7decb",
   "metadata": {},
   "outputs": [],
   "source": [
    "graph_builder = StateGraph(ConfigState)\n",
    "\n",
    "graph_builder.add_node(\"initialize\", initialize)\n",
    "graph_builder.add_node(\"chatbot\", chatbot)\n",
    "\n",
    "graph_builder.add_edge(START, \"initialize\")\n",
    "graph_builder.add_edge(\"initialize\", \"chatbot\")\n",
    "graph_builder.add_edge(\"chatbot\", END)\n",
    "\n",
    "graph = graph_builder.compile()"
   ]
  },
  {
   "cell_type": "code",
   "execution_count": 17,
   "id": "216188d3-5a11-497c-bcac-e6f174e300f2",
   "metadata": {},
   "outputs": [
    {
     "data": {
      "text/plain": [
       "{'messages': [SystemMessage(content='You are setting user in the application. Your aim is to fill all the data in short conversation. Please provide name and adress (city and street)', additional_kwargs={}, response_metadata={}, id='c98fb471-0e83-45c2-9fb9-577bcd1e8c41'),\n",
       "  HumanMessage(content='Hi', additional_kwargs={}, response_metadata={}, id='885ca364-5073-41b0-8c96-858656131327'),\n",
       "  AIMessage(content='Hello!  What is your name?\\n', additional_kwargs={}, response_metadata={'is_blocked': False, 'safety_ratings': [], 'usage_metadata': {'prompt_token_count': 53, 'candidates_token_count': 9, 'total_token_count': 62, 'cached_content_token_count': 0}, 'finish_reason': 'STOP'}, id='run-eb5b15ce-db7e-4c23-b206-b4f31a880ba4-0', usage_metadata={'input_tokens': 53, 'output_tokens': 9, 'total_tokens': 62})]}"
      ]
     },
     "execution_count": 17,
     "metadata": {},
     "output_type": "execute_result"
    }
   ],
   "source": [
    "graph.invoke({'messages':[]})"
   ]
  },
  {
   "cell_type": "code",
   "execution_count": null,
   "id": "5b8c9b8e-21de-4b4a-b0e9-5d7671beb9a5",
   "metadata": {},
   "outputs": [],
   "source": []
  }
 ],
 "metadata": {
  "kernelspec": {
   "display_name": "Python 3 (ipykernel)",
   "language": "python",
   "name": "python3"
  },
  "language_info": {
   "codemirror_mode": {
    "name": "ipython",
    "version": 3
   },
   "file_extension": ".py",
   "mimetype": "text/x-python",
   "name": "python",
   "nbconvert_exporter": "python",
   "pygments_lexer": "ipython3",
   "version": "3.12.6"
  }
 },
 "nbformat": 4,
 "nbformat_minor": 5
}
