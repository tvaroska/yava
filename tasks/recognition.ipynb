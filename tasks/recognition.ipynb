{
 "cells": [
  {
   "cell_type": "code",
   "execution_count": 1,
   "id": "58d47a1c-155b-41c8-8470-dfcdf960c948",
   "metadata": {},
   "outputs": [],
   "source": [
    "from typing import Optional, Union, List\n",
    "from datetime import date, datetime\n",
    "\n",
    "from pydantic import BaseModel, Field\n",
    "\n",
    "from langchain_core.prompts import ChatPromptTemplate\n",
    "from langchain_core.messages import HumanMessage\n",
    "from langchain_core.tools import StructuredTool\n",
    "from langchain_google_vertexai import ChatVertexAI"
   ]
  },
  {
   "cell_type": "code",
   "execution_count": 2,
   "id": "025aa20d-22c3-4327-8f72-256bd608a8a8",
   "metadata": {},
   "outputs": [],
   "source": [
    "def object_to_xml(data: Union[dict, bool], root='object', ignore=None):\n",
    "    if not ignore:\n",
    "        ignore = []\n",
    "    elif isinstance(ignore, str):\n",
    "        ignore = [ignore]\n",
    "    xml = f'<{root}>'\n",
    "    if isinstance(data, dict):\n",
    "        for key, value in data.items():\n",
    "            if not(key in ignore):\n",
    "                xml += object_to_xml(value, key, ignore)\n",
    "\n",
    "    elif isinstance(data, (list, tuple, set)):\n",
    "        for item in data:\n",
    "            xml += object_to_xml(item, 'item', ignore)\n",
    "\n",
    "    else:\n",
    "        xml += str(data)\n",
    "\n",
    "    xml += f'</{root}>'\n",
    "    return xml"
   ]
  },
  {
   "cell_type": "code",
   "execution_count": 3,
   "id": "98f5c1a8-10d0-44c0-9b35-194e5b10dca3",
   "metadata": {},
   "outputs": [],
   "source": [
    "class Task(BaseModel):\n",
    "    id: Optional[int] = None\n",
    "    due: date\n",
    "    description: str\n",
    "    status: int = 0\n",
    "\n",
    "class TaskList(BaseModel):\n",
    "    last_update: datetime = Field(default_factory=datetime.now)\n",
    "    tasks: List[Task] = Field(default = [])\n",
    "\n",
    "    def __str__(self):\n",
    "        return object_to_xml(self.model_dump()['tasks'], 'task')\n",
    "    \n",
    "    def add(self, due: date, description: str, status: int = 0):\n",
    "        if len(self.tasks) > 0:\n",
    "            id = max([t.id for t in self.tasks]) + 1\n",
    "        else:\n",
    "            id = 1\n",
    "        self.tasks.append(Task(id = id, due = due, description = description, status = status))"
   ]
  },
  {
   "cell_type": "code",
   "execution_count": 4,
   "id": "b644157e-fb9a-47e0-a788-a6bc66a0b629",
   "metadata": {},
   "outputs": [],
   "source": [
    "l = TaskList()\n",
    "l.add(date(2024, 10, 22), 'submit chemistry homework')\n",
    "l.add(date(2024, 10, 23), 'second chapter in chemistry texbook')"
   ]
  },
  {
   "cell_type": "code",
   "execution_count": 5,
   "id": "abe08db1-68c8-40f0-be79-3b2a0e2fdf07",
   "metadata": {},
   "outputs": [],
   "source": [
    "llm = ChatVertexAI(model='gemini-1.5-flash-002')"
   ]
  },
  {
   "cell_type": "code",
   "execution_count": 6,
   "id": "a2e1f4d4-8e09-49ff-b555-15872611c92c",
   "metadata": {},
   "outputs": [],
   "source": [
    "prompt = ChatPromptTemplate([\n",
    "    (\"system\", \"You are an executive asistant for {user}. Today's date is {date}. Make your response concise and direct to the point\"),\n",
    "    (\"user\", \"My task list is {tasks}. Let's start with what my today's tasks are\")\n",
    "])"
   ]
  },
  {
   "cell_type": "code",
   "execution_count": 7,
   "id": "99581c01-2b6f-4b3c-b1d9-8b610c6e8108",
   "metadata": {},
   "outputs": [],
   "source": [
    "messages = prompt.invoke({'user':'high school student', 'date':'Oct 21, 2024', 'tasks': str(l)}).messages"
   ]
  },
  {
   "cell_type": "code",
   "execution_count": 8,
   "id": "c48c5634-0f7a-44b6-9a7d-ec52230493a0",
   "metadata": {},
   "outputs": [],
   "source": [
    "response = llm.invoke(messages)"
   ]
  },
  {
   "cell_type": "code",
   "execution_count": 9,
   "id": "85990560-6687-4d0f-8777-103d0aaca8cf",
   "metadata": {},
   "outputs": [
    {
     "data": {
      "text/plain": [
       "\"Today's tasks: None.  Focus on chemistry homework (due tomorrow).\\n\""
      ]
     },
     "execution_count": 9,
     "metadata": {},
     "output_type": "execute_result"
    }
   ],
   "source": [
    "response.content"
   ]
  },
  {
   "cell_type": "code",
   "execution_count": null,
   "id": "0e1da90a-a200-43ab-9888-cbe0d791a50c",
   "metadata": {},
   "outputs": [],
   "source": []
  }
 ],
 "metadata": {
  "kernelspec": {
   "display_name": "Python 3 (ipykernel)",
   "language": "python",
   "name": "python3"
  },
  "language_info": {
   "codemirror_mode": {
    "name": "ipython",
    "version": 3
   },
   "file_extension": ".py",
   "mimetype": "text/x-python",
   "name": "python",
   "nbconvert_exporter": "python",
   "pygments_lexer": "ipython3",
   "version": "3.12.6"
  }
 },
 "nbformat": 4,
 "nbformat_minor": 5
}
