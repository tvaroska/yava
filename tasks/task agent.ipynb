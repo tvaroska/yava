{
 "cells": [
  {
   "cell_type": "markdown",
   "id": "f4050451-9040-42c5-9dd6-038574d160ee",
   "metadata": {},
   "source": [
    "# TaskBot"
   ]
  },
  {
   "cell_type": "code",
   "execution_count": 14,
   "id": "1ed2bfd5-55eb-4e4b-8432-029ea4ca8772",
   "metadata": {},
   "outputs": [],
   "source": [
    "from typing import Optional, List, Union, Annotated\n",
    "\n",
    "from datetime import date, datetime\n",
    "from pydantic import BaseModel, Field\n",
    "\n",
    "from langchain_core.messages import SystemMessage, HumanMessage\n",
    "from langchain_core.runnables.config import RunnableConfig\n",
    "\n",
    "from langchain_google_vertexai import ChatVertexAI\n",
    "\n",
    "from langgraph.graph import END, START, StateGraph\n",
    "from langgraph.graph.message import add_messages\n",
    "from langgraph.checkpoint.memory import MemorySaver\n",
    "\n",
    "from promptgit import Prompt\n",
    "\n",
    "from utils import object_to_xml"
   ]
  },
  {
   "cell_type": "code",
   "execution_count": 2,
   "id": "95131627-e11a-407f-a6be-c53b83647102",
   "metadata": {},
   "outputs": [],
   "source": [
    "system = Prompt(\n",
    "    prompt = 'You are an executive assistant to {user}. The tasks are {tasks}', variables=['user', 'tasks']\n",
    ")"
   ]
  },
  {
   "cell_type": "code",
   "execution_count": 3,
   "id": "6e66cb48-80e2-4fae-983d-b3c3a0e16afb",
   "metadata": {},
   "outputs": [],
   "source": [
    "class Task(BaseModel):\n",
    "    id: Optional[int] = None\n",
    "    due: date\n",
    "    description: str\n",
    "    status: int = 0\n",
    "\n",
    "class TaskList(BaseModel):\n",
    "    last_update: datetime = Field(default_factory=datetime.now)\n",
    "    tasks: List[Task] = Field(default = [])\n",
    "\n",
    "    def __str__(self):\n",
    "        return object_to_xml(self.model_dump()['tasks'], 'task')\n",
    "    \n",
    "    def add(self, due: date, description: str, status: int = 0):\n",
    "        if len(self.tasks) > 0:\n",
    "            id = max([t.id for t in self.tasks]) + 1\n",
    "        else:\n",
    "            id = 1\n",
    "        self.tasks.append(Task(id = id, due = due, description = description, status = status))"
   ]
  },
  {
   "cell_type": "code",
   "execution_count": 4,
   "id": "b61a622b-0d62-4568-bda8-ab225dc09927",
   "metadata": {},
   "outputs": [],
   "source": [
    "l = TaskList()\n",
    "l.add(date(2024, 10, 22), 'submit chemistry homework')\n",
    "l.add(date(2024, 10, 23), 'second chapter in chemistry texbook')"
   ]
  },
  {
   "cell_type": "code",
   "execution_count": 6,
   "id": "e5bcfc54-66bd-446b-81c5-c26e1542a0c7",
   "metadata": {},
   "outputs": [],
   "source": [
    "class TaskState(BaseModel):\n",
    "    user_id: int\n",
    "    tasks: TaskList = None\n",
    "    messages: Annotated[list, add_messages] = []"
   ]
  },
  {
   "cell_type": "code",
   "execution_count": 8,
   "id": "8b716f7a-afef-4380-9225-69f3f41ab281",
   "metadata": {},
   "outputs": [],
   "source": [
    "llm = ChatVertexAI(model='gemini-1.5-flash-002')\n",
    "\n",
    "def initiate(state: TaskState, config: RunnableConfig):\n",
    "    print(config)\n",
    "    return {'messages': [\n",
    "        SystemMessage(str(system).format(tasks=str(tasks[state.user_id]) ,**memory[state.user_id])), \n",
    "        HumanMessage('What are my tasks for today/')]\n",
    "           }\n",
    "\n",
    "def chatbot(state: TaskState):\n",
    "    return {\"messages\": [llm.invoke(state.messages)]}"
   ]
  },
  {
   "cell_type": "code",
   "execution_count": 9,
   "id": "c83a2b02-a462-4eb3-83ea-0efeefc2c21f",
   "metadata": {},
   "outputs": [
    {
     "data": {
      "text/plain": [
       "<langgraph.graph.state.StateGraph at 0x75ab135b48f0>"
      ]
     },
     "execution_count": 9,
     "metadata": {},
     "output_type": "execute_result"
    }
   ],
   "source": [
    "graph_builder = StateGraph(TaskState)\n",
    "\n",
    "graph_builder.add_node(\"initiate\", initiate)\n",
    "graph_builder.add_node(\"chatbot\", chatbot)\n",
    "graph_builder.add_edge(START, \"initiate\")\n",
    "graph_builder.add_edge(\"initiate\", \"chatbot\")\n",
    "graph_builder.add_edge(\"chatbot\", END)"
   ]
  },
  {
   "cell_type": "code",
   "execution_count": 10,
   "id": "d6f2bfa0-8061-498d-849c-22fe99c876bc",
   "metadata": {},
   "outputs": [],
   "source": [
    "checkpointer = MemorySaver()\n",
    "graph = graph_builder.compile(checkpointer=checkpointer, interrupt_before=['chatbot'])"
   ]
  },
  {
   "cell_type": "code",
   "execution_count": 11,
   "id": "9def09a2-a4ca-406e-b5a7-2bb0769ee3a9",
   "metadata": {},
   "outputs": [],
   "source": [
    "config = {\"configurable\": {\"thread_id\": \"42\"}}"
   ]
  },
  {
   "cell_type": "code",
   "execution_count": 12,
   "id": "7a783f96-b524-49c9-a627-bb216b5fc5d5",
   "metadata": {},
   "outputs": [
    {
     "name": "stdout",
     "output_type": "stream",
     "text": [
      "{'metadata': {'thread_id': '1', 'langgraph_step': 1, 'langgraph_node': 'initiate', 'langgraph_triggers': ['start:initiate'], 'langgraph_path': ('__pregel_pull', 'initiate'), 'langgraph_checkpoint_ns': 'initiate:04be0524-cea1-759e-f40a-ab30bfc36b75'}, 'configurable': {'thread_id': '1', '__pregel_resuming': False, '__pregel_task_id': '04be0524-cea1-759e-f40a-ab30bfc36b75', '__pregel_send': functools.partial(<function local_write at 0x75ab13741e40>, <built-in method extend of collections.deque object at 0x75ab13579c60>, dict_keys(['__start__', 'initiate', 'chatbot'])), '__pregel_read': functools.partial(<function local_read at 0x75ab13741da0>, 1, {'v': 1, 'ts': '2024-10-24T20:33:12.219616+00:00', 'id': '1ef92473-048f-6816-8000-60d654740992', 'channel_values': {'user_id': 42, 'start:initiate': '__start__'}, 'channel_versions': {'__start__': '00000000000000000000000000000002.0.9107407969680784', 'user_id': '00000000000000000000000000000002.0.646590357344696', 'start:initiate': '00000000000000000000000000000002.0.5894787274771843'}, 'versions_seen': {'__input__': {}, '__start__': {'__start__': '00000000000000000000000000000001.0.509624422262903'}}, 'pending_sends': []}, {'user_id': <langgraph.channels.last_value.LastValue object at 0x75ab135b0e80>, 'tasks': <langgraph.channels.last_value.LastValue object at 0x75ab135b03c0>, 'messages': <langgraph.channels.binop.BinaryOperatorAggregate object at 0x75ab135b0940>, '__start__': <langgraph.channels.ephemeral_value.EphemeralValue object at 0x75ab135b0580>, 'initiate': <langgraph.channels.ephemeral_value.EphemeralValue object at 0x75ab135b1c40>, 'chatbot': <langgraph.channels.ephemeral_value.EphemeralValue object at 0x75ab135b1f40>, 'start:initiate': <langgraph.channels.ephemeral_value.EphemeralValue object at 0x75ab135b2780>}, {}, PregelTaskWrites(name='initiate', writes=deque([]), triggers=['start:initiate']), {'tags': [], 'metadata': ChainMap({'thread_id': '1'}), 'callbacks': None, 'recursion_limit': 25, 'configurable': {'thread_id': '1', '__pregel_resuming': False}}), '__pregel_store': None, '__pregel_checkpointer': <langgraph.checkpoint.memory.MemorySaver object at 0x75ab1353fef0>, 'checkpoint_map': {'': '1ef92473-048f-6816-8000-60d654740992'}, 'checkpoint_id': None, 'checkpoint_ns': 'initiate:04be0524-cea1-759e-f40a-ab30bfc36b75'}, 'callbacks': <langchain_core.callbacks.manager.CallbackManager object at 0x75ab135b6b10>}\n"
     ]
    },
    {
     "data": {
      "text/plain": [
       "{'user_id': 42,\n",
       " 'messages': [SystemMessage(content='You are an executive assistant to Boris Tvaroska. The tasks are <task><item><id>1</id><due>2024-10-22</due><description>submit chemistry homework</description><status>0</status></item><item><id>2</id><due>2024-10-23</due><description>second chapter in chemistry texbook</description><status>0</status></item></task>', additional_kwargs={}, response_metadata={}, id='14216210-f8e9-4430-ad56-e2de7362fd66'),\n",
       "  HumanMessage(content='What are my tasks for today/', additional_kwargs={}, response_metadata={}, id='c0d5bb79-4416-4c92-bb77-b389f4672205')]}"
      ]
     },
     "execution_count": 12,
     "metadata": {},
     "output_type": "execute_result"
    }
   ],
   "source": [
    "graph.invoke({'user_id': 42}, config)"
   ]
  },
  {
   "cell_type": "code",
   "execution_count": 13,
   "id": "f4b8b0bb-69fb-4b16-b4c9-0a60a02c0c7e",
   "metadata": {},
   "outputs": [
    {
     "data": {
      "text/plain": [
       "StateSnapshot(values={'user_id': 42, 'messages': [SystemMessage(content='You are an executive assistant to Boris Tvaroska. The tasks are <task><item><id>1</id><due>2024-10-22</due><description>submit chemistry homework</description><status>0</status></item><item><id>2</id><due>2024-10-23</due><description>second chapter in chemistry texbook</description><status>0</status></item></task>', additional_kwargs={}, response_metadata={}, id='14216210-f8e9-4430-ad56-e2de7362fd66'), HumanMessage(content='What are my tasks for today/', additional_kwargs={}, response_metadata={}, id='c0d5bb79-4416-4c92-bb77-b389f4672205')]}, next=('chatbot',), config={'configurable': {'thread_id': '1', 'checkpoint_ns': '', 'checkpoint_id': '1ef92473-0499-61cf-8001-d79ea2e95a63'}}, metadata={'source': 'loop', 'writes': {'initiate': {'messages': [SystemMessage(content='You are an executive assistant to Boris Tvaroska. The tasks are <task><item><id>1</id><due>2024-10-22</due><description>submit chemistry homework</description><status>0</status></item><item><id>2</id><due>2024-10-23</due><description>second chapter in chemistry texbook</description><status>0</status></item></task>', additional_kwargs={}, response_metadata={}, id='14216210-f8e9-4430-ad56-e2de7362fd66'), HumanMessage(content='What are my tasks for today/', additional_kwargs={}, response_metadata={}, id='c0d5bb79-4416-4c92-bb77-b389f4672205')]}}, 'step': 1, 'parents': {}}, created_at='2024-10-24T20:33:12.223430+00:00', parent_config={'configurable': {'thread_id': '1', 'checkpoint_ns': '', 'checkpoint_id': '1ef92473-048f-6816-8000-60d654740992'}}, tasks=(PregelTask(id='c04de084-3b39-5bb5-ba0c-0f6b72a1d642', name='chatbot', path=('__pregel_pull', 'chatbot'), error=None, interrupts=(), state=None, result=None),))"
      ]
     },
     "execution_count": 13,
     "metadata": {},
     "output_type": "execute_result"
    }
   ],
   "source": [
    "graph.get_state(config)"
   ]
  },
  {
   "cell_type": "raw",
   "id": "046985d0-22ff-4b44-a93c-72291d7b80d6",
   "metadata": {},
   "source": [
    "def stream_graph_updates(user_input: str):\n",
    "    for event in graph.stream({\"messages\": [(\"user\", user_input)]}):\n",
    "        for value in event.values():\n",
    "            print(\"Assistant:\", value[\"messages\"][-1].content)\n",
    "\n",
    "\n",
    "while True:\n",
    "    try:\n",
    "        user_input = input(\"User: \")\n",
    "        if user_input.lower() in [\"quit\", \"exit\", \"q\"]:\n",
    "            print(\"Goodbye!\")\n",
    "            break\n",
    "\n",
    "        stream_graph_updates(user_input)\n",
    "    except:\n",
    "        # fallback if input() is not available\n",
    "        user_input = \"What do you know about LangGraph?\"\n",
    "        print(\"User: \" + user_input)\n",
    "        stream_graph_updates(user_input)\n",
    "        break\n"
   ]
  },
  {
   "cell_type": "code",
   "execution_count": null,
   "id": "f0e585a7-ef1f-414c-90b8-3f7d95db97a0",
   "metadata": {},
   "outputs": [],
   "source": []
  },
  {
   "cell_type": "code",
   "execution_count": null,
   "id": "2c97d560-a10a-4c99-9f27-05d49651080e",
   "metadata": {},
   "outputs": [],
   "source": []
  }
 ],
 "metadata": {
  "kernelspec": {
   "display_name": "Python 3 (ipykernel)",
   "language": "python",
   "name": "python3"
  },
  "language_info": {
   "codemirror_mode": {
    "name": "ipython",
    "version": 3
   },
   "file_extension": ".py",
   "mimetype": "text/x-python",
   "name": "python",
   "nbconvert_exporter": "python",
   "pygments_lexer": "ipython3",
   "version": "3.12.6"
  }
 },
 "nbformat": 4,
 "nbformat_minor": 5
}
