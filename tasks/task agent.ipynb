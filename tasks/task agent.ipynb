{
 "cells": [
  {
   "cell_type": "code",
   "execution_count": 1,
   "id": "95c0b05e-dae5-494f-ac0a-7ba0daf0d19a",
   "metadata": {},
   "outputs": [],
   "source": [
    "from typing import Optional, List, Union, Annotated\n",
    "\n",
    "from datetime import date, datetime\n",
    "from pydantic import BaseModel, Field\n",
    "\n",
    "from langchain_core.messages import SystemMessage, HumanMessage\n",
    "\n",
    "from langchain_google_vertexai import ChatVertexAI\n",
    "\n",
    "from langgraph.graph import END, START, StateGraph\n",
    "from langgraph.graph.message import add_messages\n",
    "from langgraph.checkpoint.memory import MemorySaver\n",
    "\n",
    "from promptgit import Prompt"
   ]
  },
  {
   "cell_type": "code",
   "execution_count": 2,
   "id": "95131627-e11a-407f-a6be-c53b83647102",
   "metadata": {},
   "outputs": [],
   "source": [
    "system = Prompt(\n",
    "    prompt = 'You are an executive assistant to {user}. The tasks are {tasks}', variables=['user', 'tasks']\n",
    ")"
   ]
  },
  {
   "cell_type": "code",
   "execution_count": 3,
   "id": "efbf1182-4762-4f8c-875c-bab16e81ae55",
   "metadata": {},
   "outputs": [],
   "source": [
    "def object_to_xml(data: Union[dict, bool], root='object', ignore=None):\n",
    "    if not ignore:\n",
    "        ignore = []\n",
    "    elif isinstance(ignore, str):\n",
    "        ignore = [ignore]\n",
    "    xml = f'<{root}>'\n",
    "    if isinstance(data, dict):\n",
    "        for key, value in data.items():\n",
    "            if not(key in ignore):\n",
    "                xml += object_to_xml(value, key, ignore)\n",
    "\n",
    "    elif isinstance(data, (list, tuple, set)):\n",
    "        for item in data:\n",
    "            xml += object_to_xml(item, 'item', ignore)\n",
    "\n",
    "    else:\n",
    "        xml += str(data)\n",
    "\n",
    "    xml += f'</{root}>'\n",
    "    return xml"
   ]
  },
  {
   "cell_type": "code",
   "execution_count": 4,
   "id": "6e66cb48-80e2-4fae-983d-b3c3a0e16afb",
   "metadata": {},
   "outputs": [],
   "source": [
    "class Task(BaseModel):\n",
    "    id: Optional[int] = None\n",
    "    due: date\n",
    "    description: str\n",
    "    status: int = 0\n",
    "\n",
    "class TaskList(BaseModel):\n",
    "    last_update: datetime = Field(default_factory=datetime.now)\n",
    "    tasks: List[Task] = Field(default = [])\n",
    "\n",
    "    def __str__(self):\n",
    "        return object_to_xml(self.model_dump()['tasks'], 'task')\n",
    "    \n",
    "    def add(self, due: date, description: str, status: int = 0):\n",
    "        if len(self.tasks) > 0:\n",
    "            id = max([t.id for t in self.tasks]) + 1\n",
    "        else:\n",
    "            id = 1\n",
    "        self.tasks.append(Task(id = id, due = due, description = description, status = status))"
   ]
  },
  {
   "cell_type": "code",
   "execution_count": 5,
   "id": "b61a622b-0d62-4568-bda8-ab225dc09927",
   "metadata": {},
   "outputs": [],
   "source": [
    "l = TaskList()\n",
    "l.add(date(2024, 10, 22), 'submit chemistry homework')\n",
    "l.add(date(2024, 10, 23), 'second chapter in chemistry texbook')"
   ]
  },
  {
   "cell_type": "code",
   "execution_count": 6,
   "id": "6232c500-e648-4bf6-b074-f47829d7b303",
   "metadata": {},
   "outputs": [],
   "source": [
    "tasks = {\n",
    "    42: l\n",
    "}\n",
    "\n",
    "memory = {\n",
    "    42: {\n",
    "        'user': 'Boris Tvaroska',\n",
    "        'date': 'Oct 22, 2024'\n",
    "    }\n",
    "}"
   ]
  },
  {
   "cell_type": "code",
   "execution_count": 7,
   "id": "e5bcfc54-66bd-446b-81c5-c26e1542a0c7",
   "metadata": {},
   "outputs": [],
   "source": [
    "class TaskState(BaseModel):\n",
    "    user_id: int\n",
    "    tasks: TaskList = None\n",
    "    messages: Annotated[list, add_messages] = []"
   ]
  },
  {
   "cell_type": "code",
   "execution_count": 8,
   "id": "bcc5d0eb-b15c-43ff-a9d6-e67bd4cc2ee5",
   "metadata": {},
   "outputs": [
    {
     "data": {
      "text/plain": [
       "TaskState(user_id=42, tasks=None, messages=[])"
      ]
     },
     "execution_count": 8,
     "metadata": {},
     "output_type": "execute_result"
    }
   ],
   "source": [
    "TaskState(user_id=42)"
   ]
  },
  {
   "cell_type": "code",
   "execution_count": 9,
   "id": "8b716f7a-afef-4380-9225-69f3f41ab281",
   "metadata": {},
   "outputs": [],
   "source": [
    "llm = ChatVertexAI(model='gemini-1.5-flash-002')\n",
    "\n",
    "def initiate(state: TaskState):\n",
    "    return {'messages': [\n",
    "        SystemMessage(str(system).format(tasks=str(tasks[state.user_id]) ,**memory[state.user_id])), \n",
    "        HumanMessage('What are my tasks for today/')]\n",
    "           }\n",
    "\n",
    "def chatbot(state: TaskState):\n",
    "    return {\"messages\": [llm.invoke(state.messages)]}"
   ]
  },
  {
   "cell_type": "code",
   "execution_count": 10,
   "id": "c83a2b02-a462-4eb3-83ea-0efeefc2c21f",
   "metadata": {},
   "outputs": [
    {
     "data": {
      "text/plain": [
       "<langgraph.graph.state.StateGraph at 0x7b41c6cd57f0>"
      ]
     },
     "execution_count": 10,
     "metadata": {},
     "output_type": "execute_result"
    }
   ],
   "source": [
    "graph_builder = StateGraph(TaskState)\n",
    "\n",
    "graph_builder.add_node(\"initiate\", initiate)\n",
    "graph_builder.add_node(\"chatbot\", chatbot)\n",
    "graph_builder.add_edge(START, \"initiate\")\n",
    "graph_builder.add_edge(\"initiate\", \"chatbot\")\n",
    "graph_builder.add_edge(\"chatbot\", END)"
   ]
  },
  {
   "cell_type": "code",
   "execution_count": 11,
   "id": "d6f2bfa0-8061-498d-849c-22fe99c876bc",
   "metadata": {},
   "outputs": [],
   "source": [
    "checkpointer = MemorySaver()\n",
    "graph = graph_builder.compile(checkpointer=checkpointer, interrupt_before=['chatbot'])"
   ]
  },
  {
   "cell_type": "code",
   "execution_count": 12,
   "id": "9def09a2-a4ca-406e-b5a7-2bb0769ee3a9",
   "metadata": {},
   "outputs": [],
   "source": [
    "config = {\"configurable\": {\"thread_id\": \"1\"}}"
   ]
  },
  {
   "cell_type": "code",
   "execution_count": 13,
   "id": "7a783f96-b524-49c9-a627-bb216b5fc5d5",
   "metadata": {},
   "outputs": [
    {
     "data": {
      "text/plain": [
       "{'user_id': 42,\n",
       " 'messages': [SystemMessage(content='You are an executive assistant to Boris Tvaroska. The tasks are <task><item><id>1</id><due>2024-10-22</due><description>submit chemistry homework</description><status>0</status></item><item><id>2</id><due>2024-10-23</due><description>second chapter in chemistry texbook</description><status>0</status></item></task>', additional_kwargs={}, response_metadata={}, id='a6c78a22-fb61-4943-8118-e267007ba6b0'),\n",
       "  HumanMessage(content='What are my tasks for today/', additional_kwargs={}, response_metadata={}, id='e0478c95-e140-4139-a389-58ce65d8ee52')]}"
      ]
     },
     "execution_count": 13,
     "metadata": {},
     "output_type": "execute_result"
    }
   ],
   "source": [
    "graph.invoke({'user_id': 42}, config)"
   ]
  },
  {
   "cell_type": "code",
   "execution_count": 15,
   "id": "f4b8b0bb-69fb-4b16-b4c9-0a60a02c0c7e",
   "metadata": {},
   "outputs": [
    {
     "data": {
      "text/plain": [
       "StateSnapshot(values={'user_id': 42, 'messages': [SystemMessage(content='You are an executive assistant to Boris Tvaroska. The tasks are <task><item><id>1</id><due>2024-10-22</due><description>submit chemistry homework</description><status>0</status></item><item><id>2</id><due>2024-10-23</due><description>second chapter in chemistry texbook</description><status>0</status></item></task>', additional_kwargs={}, response_metadata={}, id='a6c78a22-fb61-4943-8118-e267007ba6b0'), HumanMessage(content='What are my tasks for today/', additional_kwargs={}, response_metadata={}, id='e0478c95-e140-4139-a389-58ce65d8ee52')]}, next=('chatbot',), config={'configurable': {'thread_id': '1', 'checkpoint_ns': '', 'checkpoint_id': '1ef923e6-8db8-6ffc-8001-2dfde4ed284e'}}, metadata={'source': 'loop', 'writes': {'initiate': {'messages': [SystemMessage(content='You are an executive assistant to Boris Tvaroska. The tasks are <task><item><id>1</id><due>2024-10-22</due><description>submit chemistry homework</description><status>0</status></item><item><id>2</id><due>2024-10-23</due><description>second chapter in chemistry texbook</description><status>0</status></item></task>', additional_kwargs={}, response_metadata={}, id='a6c78a22-fb61-4943-8118-e267007ba6b0'), HumanMessage(content='What are my tasks for today/', additional_kwargs={}, response_metadata={}, id='e0478c95-e140-4139-a389-58ce65d8ee52')]}}, 'step': 1, 'parents': {}}, created_at='2024-10-24T19:30:21.662184+00:00', parent_config={'configurable': {'thread_id': '1', 'checkpoint_ns': '', 'checkpoint_id': '1ef923e6-8db4-6f7a-8000-c3ef5151c3c7'}}, tasks=(PregelTask(id='c817bcc4-00c7-2388-605c-db3cbd28bcdb', name='chatbot', path=('__pregel_pull', 'chatbot'), error=None, interrupts=(), state=None, result=None),))"
      ]
     },
     "execution_count": 15,
     "metadata": {},
     "output_type": "execute_result"
    }
   ],
   "source": [
    "graph.get_state(config)"
   ]
  },
  {
   "cell_type": "raw",
   "id": "046985d0-22ff-4b44-a93c-72291d7b80d6",
   "metadata": {},
   "source": [
    "def stream_graph_updates(user_input: str):\n",
    "    for event in graph.stream({\"messages\": [(\"user\", user_input)]}):\n",
    "        for value in event.values():\n",
    "            print(\"Assistant:\", value[\"messages\"][-1].content)\n",
    "\n",
    "\n",
    "while True:\n",
    "    try:\n",
    "        user_input = input(\"User: \")\n",
    "        if user_input.lower() in [\"quit\", \"exit\", \"q\"]:\n",
    "            print(\"Goodbye!\")\n",
    "            break\n",
    "\n",
    "        stream_graph_updates(user_input)\n",
    "    except:\n",
    "        # fallback if input() is not available\n",
    "        user_input = \"What do you know about LangGraph?\"\n",
    "        print(\"User: \" + user_input)\n",
    "        stream_graph_updates(user_input)\n",
    "        break\n"
   ]
  },
  {
   "cell_type": "code",
   "execution_count": null,
   "id": "f0e585a7-ef1f-414c-90b8-3f7d95db97a0",
   "metadata": {},
   "outputs": [],
   "source": []
  }
 ],
 "metadata": {
  "kernelspec": {
   "display_name": "Python 3 (ipykernel)",
   "language": "python",
   "name": "python3"
  },
  "language_info": {
   "codemirror_mode": {
    "name": "ipython",
    "version": 3
   },
   "file_extension": ".py",
   "mimetype": "text/x-python",
   "name": "python",
   "nbconvert_exporter": "python",
   "pygments_lexer": "ipython3",
   "version": "3.12.6"
  }
 },
 "nbformat": 4,
 "nbformat_minor": 5
}
