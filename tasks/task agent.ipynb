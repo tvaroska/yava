{
 "cells": [
  {
   "cell_type": "markdown",
   "id": "f4050451-9040-42c5-9dd6-038574d160ee",
   "metadata": {},
   "source": [
    "# TaskBot"
   ]
  },
  {
   "cell_type": "code",
   "execution_count": 1,
   "id": "1ed2bfd5-55eb-4e4b-8432-029ea4ca8772",
   "metadata": {},
   "outputs": [],
   "source": [
    "from typing import Optional, List, Union, Annotated\n",
    "\n",
    "from datetime import date, datetime\n",
    "from pydantic import BaseModel, Field\n",
    "\n",
    "from langchain_core.messages import SystemMessage, HumanMessage, AIMessage\n",
    "from langchain_core.runnables.config import RunnableConfig\n",
    "from langchain_core.tools import tool\n",
    "\n",
    "from langchain_google_vertexai import ChatVertexAI\n",
    "\n",
    "from langgraph.graph import END, START, StateGraph\n",
    "from langgraph.graph.message import add_messages\n",
    "from langgraph.checkpoint.memory import MemorySaver\n",
    "from langgraph.prebuilt import ToolNode\n",
    "\n",
    "from promptgit import Prompt\n",
    "\n",
    "from utils import object_to_xml\n",
    "\n",
    "from IPython.display import Markdown, Image, display"
   ]
  },
  {
   "cell_type": "code",
   "execution_count": 2,
   "id": "95131627-e11a-407f-a6be-c53b83647102",
   "metadata": {},
   "outputs": [],
   "source": [
    "system = Prompt.from_text(\"\"\"You are an executive assistant to {user}. \n",
    "Your aim is help user manage his/her tasklist and ensure all task completion on time.\n",
    "Provide actionable recommendation on next work with reasonable assumptions of workload you don't know.\n",
    "Do not ask clarification unless absolutely necesary.\n",
    "\n",
    "Use Markdown to respond with sections:\n",
    "1. Immediate tasks (due today)\n",
    "2. Work needed for long-term tasks\n",
    "3. Additional tasks if time allows\n",
    "\n",
    "Today is {date}.\n",
    "The tasks are {tasks}\"\"\")"
   ]
  },
  {
   "cell_type": "code",
   "execution_count": 3,
   "id": "6e66cb48-80e2-4fae-983d-b3c3a0e16afb",
   "metadata": {},
   "outputs": [],
   "source": [
    "class Task(BaseModel):\n",
    "    id: Optional[int] = None\n",
    "    due: date\n",
    "    description: str\n",
    "    status: int = 0\n",
    "\n",
    "class TaskList(BaseModel):\n",
    "    last_update: datetime = Field(default_factory=datetime.now)\n",
    "    tasks: List[Task] = Field(default = [])\n",
    "\n",
    "    def __str__(self):\n",
    "        return object_to_xml(self.model_dump()['tasks'], 'task')\n",
    "    \n",
    "    def add(self, due: date, description: str, status: int = 0):\n",
    "        if len(self.tasks) > 0:\n",
    "            id = max([t.id for t in self.tasks]) + 1\n",
    "        else:\n",
    "            id = 1\n",
    "        self.tasks.append(Task(id = id, due = due, description = description, status = status))"
   ]
  },
  {
   "cell_type": "code",
   "execution_count": 4,
   "id": "b61a622b-0d62-4568-bda8-ab225dc09927",
   "metadata": {},
   "outputs": [],
   "source": [
    "l = TaskList()\n",
    "l.add(date(2024, 10, 22), 'submit chemistry homework')\n",
    "l.add(date(2024, 10, 23), 'second chapter in chemistry texbook')"
   ]
  },
  {
   "cell_type": "code",
   "execution_count": 5,
   "id": "e5bcfc54-66bd-446b-81c5-c26e1542a0c7",
   "metadata": {},
   "outputs": [],
   "source": [
    "class TaskState(BaseModel):\n",
    "    user: str = None\n",
    "    tasks: TaskList = None\n",
    "    messages: Annotated[list, add_messages] = []"
   ]
  },
  {
   "cell_type": "code",
   "execution_count": 6,
   "id": "1321e99a-ad70-4a61-8032-3622393f80f4",
   "metadata": {},
   "outputs": [],
   "source": [
    "@tool\n",
    "def define_task(due_date: str, description: str):\n",
    "    \"\"\"\n",
    "    Create new task for user\n",
    "    \"\"\"\n",
    "    return Task(due=due_date, description=description) \n",
    "\n",
    "tool_node = ToolNode([define_task])"
   ]
  },
  {
   "cell_type": "code",
   "execution_count": 7,
   "id": "8b716f7a-afef-4380-9225-69f3f41ab281",
   "metadata": {},
   "outputs": [],
   "source": [
    "llm = ChatVertexAI(model='gemini-1.5-flash-002').bind_tools([define_task])\n",
    "\n",
    "def initiate(state: TaskState, config: RunnableConfig):\n",
    "    return {'messages': [\n",
    "        SystemMessage(str(system).format(tasks=str(state.tasks), user=state.user, date='Oct 22, 2024')),\n",
    "        HumanMessage('What are my tasks for today?')]\n",
    "           }\n",
    "\n",
    "def chatbot(state: TaskState):\n",
    "    return {\"messages\": [llm.invoke(state.messages)]}\n",
    "\n",
    "def human(state: TaskState):\n",
    "    pass\n",
    "\n",
    "def call_tools(state: TaskState):\n",
    "    last_message = state.messages[-1]\n",
    "    if isinstance(last_message, AIMessage) and last_message.tool_calls:\n",
    "        return 'tools'\n",
    "    else:\n",
    "        return 'human'\n",
    "\n",
    "def quit(state: TaskState):\n",
    "    if state.messages[-1].content.lower() in ['quit', 'end', 'bye']:\n",
    "        return END\n",
    "    else:\n",
    "        return 'chatbot'"
   ]
  },
  {
   "cell_type": "code",
   "execution_count": 8,
   "id": "c83a2b02-a462-4eb3-83ea-0efeefc2c21f",
   "metadata": {},
   "outputs": [
    {
     "data": {
      "image/jpeg": "[encoded data removed]",
      "text/plain": [
       "<IPython.core.display.Image object>"
      ]
     },
     "metadata": {},
     "output_type": "display_data"
    }
   ],
   "source": [
    "graph_builder = StateGraph(TaskState)\n",
    "\n",
    "graph_builder.add_node(\"initiate\", initiate)\n",
    "graph_builder.add_node(\"chatbot\", chatbot)\n",
    "graph_builder.add_node(\"tools\", tool_node)\n",
    "graph_builder.add_node(\"human\", human)\n",
    "\n",
    "graph_builder.add_edge(START, \"initiate\")\n",
    "graph_builder.add_edge(\"initiate\", \"chatbot\")\n",
    "graph_builder.add_conditional_edges(\"chatbot\", call_tools, [\"tools\", \"human\"])\n",
    "graph_builder.add_edge(\"tools\", \"chatbot\")\n",
    "graph_builder.add_conditional_edges(\"human\", quit, [\"chatbot\", END])\n",
    "graph_builder.add_edge(\"chatbot\", END)\n",
    "\n",
    "checkpointer = MemorySaver()\n",
    "graph = graph_builder.compile(checkpointer=checkpointer, interrupt_before=['human'])\n",
    "\n",
    "display(Image(graph.get_graph().draw_mermaid_png()))"
   ]
  },
  {
   "cell_type": "code",
   "execution_count": 9,
   "id": "9def09a2-a4ca-406e-b5a7-2bb0769ee3a9",
   "metadata": {},
   "outputs": [],
   "source": [
    "config = {\"configurable\": {\"thread_id\": \"42\"}}"
   ]
  },
  {
   "cell_type": "code",
   "execution_count": 10,
   "id": "f0e585a7-ef1f-414c-90b8-3f7d95db97a0",
   "metadata": {},
   "outputs": [],
   "source": [
    "response = graph.invoke({'tasks': l}, config)"
   ]
  },
  {
   "cell_type": "code",
   "execution_count": 11,
   "id": "6f09c011-a54a-44c5-b41f-d4a70f0f90b1",
   "metadata": {},
   "outputs": [
    {
     "data": {
      "text/plain": [
       "{'configurable': {'thread_id': '42',\n",
       "  'checkpoint_ns': '',\n",
       "  'checkpoint_id': '1ef97105-362f-6b74-8005-112f2ee9ea0c'}}"
      ]
     },
     "execution_count": 11,
     "metadata": {},
     "output_type": "execute_result"
    }
   ],
   "source": [
    "graph.update_state(config, {'messages':[HumanMessage('one more thing - I have to go to robotics club today')]})"
   ]
  },
  {
   "cell_type": "code",
   "execution_count": 12,
   "id": "0f8f3a7b-8efc-40fc-bc42-1dd34919a115",
   "metadata": {},
   "outputs": [
    {
     "data": {
      "text/plain": [
       "HumanMessage(content='one more thing - I have to go to robotics club today', additional_kwargs={}, response_metadata={}, id='9871927c-9412-4563-90cb-e6ec955adb95')"
      ]
     },
     "execution_count": 12,
     "metadata": {},
     "output_type": "execute_result"
    }
   ],
   "source": [
    "graph.get_state(config).values['messages'][-1]"
   ]
  },
  {
   "cell_type": "code",
   "execution_count": 13,
   "id": "a1396644-81f6-4a4c-9fd9-fc91c5595ddb",
   "metadata": {},
   "outputs": [
    {
     "name": "stdout",
     "output_type": "stream",
     "text": [
      "('human',)\n",
      "('human',)\n",
      "('chatbot',)\n",
      "('tools',)\n",
      "('chatbot',)\n",
      "('initiate',)\n",
      "('__start__',)\n"
     ]
    }
   ],
   "source": [
    "for step in graph.get_state_history(config):\n",
    "    print(step.next)"
   ]
  },
  {
   "cell_type": "code",
   "execution_count": 14,
   "id": "6ce07de0-4194-46dc-9901-b24201578b96",
   "metadata": {},
   "outputs": [
    {
     "data": {
      "text/plain": [
       "{'tasks': TaskList(last_update=datetime.datetime(2024, 10, 30, 22, 43, 2, 628993), tasks=[Task(id=1, due=datetime.date(2024, 10, 22), description='submit chemistry homework', status=0), Task(id=2, due=datetime.date(2024, 10, 23), description='second chapter in chemistry texbook', status=0)]),\n",
       " 'messages': [SystemMessage(content=\"You are an executive assistant to None. \\nYour aim is help user manage his/her tasklist and ensure all task completion on time.\\nProvide actionable recommendation on next work with reasonable assumptions of workload you don't know.\\nDo not ask clarification unless absolutely necesary.\\n\\nUse Markdown to respond with sections:\\n1. Immediate tasks (due today)\\n2. Work needed for long-term tasks\\n3. Additional tasks if time allows\\n\\nToday is Oct 22, 2024.\\nThe tasks are <task><item><id>1</id><due>2024-10-22</due><description>submit chemistry homework</description><status>0</status></item><item><id>2</id><due>2024-10-23</due><description>second chapter in chemistry texbook</description><status>0</status></item></task>\", additional_kwargs={}, response_metadata={}, id='252852c0-ac24-4a94-bf86-6c6d7ae1a987'),\n",
       "  HumanMessage(content='What are my tasks for today?', additional_kwargs={}, response_metadata={}, id='ee6ac41a-e130-4c03-a21a-bd67eeaf602c'),\n",
       "  AIMessage(content='\\n\\n**1. Immediate tasks (due today)**\\n\\n*   Submit chemistry homework\\n\\n\\n**2. Work needed for long-term tasks**\\n\\n*   No tasks are due tomorrow,  but you may want to start reading the second chapter of the chemistry textbook to stay ahead of schedule.\\n\\n\\n**3. Additional tasks if time allows**\\n\\n*   None.\\n', additional_kwargs={'function_call': {'name': 'define_task', 'arguments': '{\"description\": \"submit chemistry homework\", \"due_date\": \"2024-10-22\"}'}}, response_metadata={'is_blocked': False, 'safety_ratings': [], 'usage_metadata': {'prompt_token_count': 219, 'candidates_token_count': 94, 'total_token_count': 313, 'cached_content_token_count': 0}, 'finish_reason': 'STOP'}, id='run-b26f2d4f-68db-4c04-932e-c2344d905865-0', tool_calls=[{'name': 'define_task', 'args': {'description': 'submit chemistry homework', 'due_date': '2024-10-22'}, 'id': '6cd93477-3faa-49c2-bb5b-83863e5c3e1f', 'type': 'tool_call'}], usage_metadata={'input_tokens': 219, 'output_tokens': 94, 'total_tokens': 313}),\n",
       "  ToolMessage(content=\"id=None due=datetime.date(2024, 10, 22) description='submit chemistry homework' status=0\", name='define_task', id='2c1f01c9-22c6-49e7-885d-2e71025faaf5', tool_call_id='6cd93477-3faa-49c2-bb5b-83863e5c3e1f'),\n",
       "  AIMessage(content='OK. I\\'ve added \"submit chemistry homework\" to your task list.  I see you have a chemistry textbook reading assignment due tomorrow.  I recommend starting that tonight to avoid a last-minute rush.\\n', additional_kwargs={}, response_metadata={'is_blocked': False, 'safety_ratings': [], 'usage_metadata': {'prompt_token_count': 348, 'candidates_token_count': 44, 'total_token_count': 392, 'cached_content_token_count': 0}, 'finish_reason': 'STOP'}, id='run-cbb8cf78-e2e4-4c3f-8ba7-24ba3babb851-0', usage_metadata={'input_tokens': 348, 'output_tokens': 44, 'total_tokens': 392}),\n",
       "  HumanMessage(content='one more thing - I have to go to robotics club today', additional_kwargs={}, response_metadata={}, id='9871927c-9412-4563-90cb-e6ec955adb95'),\n",
       "  AIMessage(content='**1. Immediate tasks (due today)**\\n* Submit chemistry homework\\n* Attend robotics club meeting\\n\\n**2. Work needed for long-term tasks**\\n* No tasks are due tomorrow, but you may want to start reading the second chapter of the chemistry textbook to stay ahead of schedule.\\n\\n**3. Additional tasks if time allows**\\n* None.\\n', additional_kwargs={}, response_metadata={'is_blocked': False, 'safety_ratings': [], 'usage_metadata': {'prompt_token_count': 404, 'candidates_token_count': 75, 'total_token_count': 479, 'cached_content_token_count': 0}, 'finish_reason': 'STOP'}, id='run-b75bbe03-55c6-44e7-81b9-44e5830bda2d-0', usage_metadata={'input_tokens': 404, 'output_tokens': 75, 'total_tokens': 479})]}"
      ]
     },
     "execution_count": 14,
     "metadata": {},
     "output_type": "execute_result"
    }
   ],
   "source": [
    "response: graph.invoke(None, config)"
   ]
  },
  {
   "cell_type": "code",
   "execution_count": null,
   "id": "9f408fd5-592a-494c-9dd5-bc6483bfd53f",
   "metadata": {},
   "outputs": [],
   "source": []
  }
 ],
 "metadata": {
  "kernelspec": {
   "display_name": "Python 3 (ipykernel)",
   "language": "python",
   "name": "python3"
  },
  "language_info": {
   "codemirror_mode": {
    "name": "ipython",
    "version": 3
   },
   "file_extension": ".py",
   "mimetype": "text/x-python",
   "name": "python",
   "nbconvert_exporter": "python",
   "pygments_lexer": "ipython3",
   "version": "3.12.6"
  }
 },
 "nbformat": 4,
 "nbformat_minor": 5
}
