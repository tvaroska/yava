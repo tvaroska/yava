{
 "cells": [
  {
   "cell_type": "markdown",
   "id": "f4050451-9040-42c5-9dd6-038574d160ee",
   "metadata": {},
   "source": [
    "# TaskBot"
   ]
  },
  {
   "cell_type": "code",
   "execution_count": 1,
   "id": "1ed2bfd5-55eb-4e4b-8432-029ea4ca8772",
   "metadata": {},
   "outputs": [],
   "source": [
    "from typing import Optional, List, Union, Annotated\n",
    "\n",
    "from datetime import date, datetime\n",
    "from pydantic import BaseModel, Field\n",
    "\n",
    "from langchain_core.messages import SystemMessage, HumanMessage\n",
    "from langchain_core.runnables.config import RunnableConfig\n",
    "\n",
    "from langchain_google_vertexai import ChatVertexAI\n",
    "\n",
    "from langgraph.graph import END, START, StateGraph\n",
    "from langgraph.graph.message import add_messages\n",
    "from langgraph.checkpoint.memory import MemorySaver\n",
    "\n",
    "from promptgit import Prompt\n",
    "\n",
    "from utils import object_to_xml"
   ]
  },
  {
   "cell_type": "code",
   "execution_count": 2,
   "id": "95131627-e11a-407f-a6be-c53b83647102",
   "metadata": {},
   "outputs": [],
   "source": [
    "system = Prompt.from_text(\"\"\"You are an executive assistant to {user}. \n",
    "Your aim is help user manage his/her tasklist and ensure all task completion on time.\n",
    "Provide actionable recommendation on next work with reasonable assumptions of workload you don't know.\n",
    "If you need more information, ask for it and store it in your memory.\n",
    "\n",
    "Today is {date}.\n",
    "The tasks are {tasks}\"\"\")"
   ]
  },
  {
   "cell_type": "code",
   "execution_count": 3,
   "id": "6e66cb48-80e2-4fae-983d-b3c3a0e16afb",
   "metadata": {},
   "outputs": [],
   "source": [
    "class Task(BaseModel):\n",
    "    id: Optional[int] = None\n",
    "    due: date\n",
    "    description: str\n",
    "    status: int = 0\n",
    "\n",
    "class TaskList(BaseModel):\n",
    "    last_update: datetime = Field(default_factory=datetime.now)\n",
    "    tasks: List[Task] = Field(default = [])\n",
    "\n",
    "    def __str__(self):\n",
    "        return object_to_xml(self.model_dump()['tasks'], 'task')\n",
    "    \n",
    "    def add(self, due: date, description: str, status: int = 0):\n",
    "        if len(self.tasks) > 0:\n",
    "            id = max([t.id for t in self.tasks]) + 1\n",
    "        else:\n",
    "            id = 1\n",
    "        self.tasks.append(Task(id = id, due = due, description = description, status = status))"
   ]
  },
  {
   "cell_type": "code",
   "execution_count": 4,
   "id": "b61a622b-0d62-4568-bda8-ab225dc09927",
   "metadata": {},
   "outputs": [],
   "source": [
    "l = TaskList()\n",
    "l.add(date(2024, 10, 22), 'submit chemistry homework')\n",
    "l.add(date(2024, 10, 23), 'second chapter in chemistry texbook')"
   ]
  },
  {
   "cell_type": "code",
   "execution_count": 5,
   "id": "e5bcfc54-66bd-446b-81c5-c26e1542a0c7",
   "metadata": {},
   "outputs": [],
   "source": [
    "class TaskState(BaseModel):\n",
    "    user: str = None\n",
    "    tasks: TaskList = None\n",
    "    messages: Annotated[list, add_messages] = []"
   ]
  },
  {
   "cell_type": "code",
   "execution_count": 6,
   "id": "8b716f7a-afef-4380-9225-69f3f41ab281",
   "metadata": {},
   "outputs": [],
   "source": [
    "llm = ChatVertexAI(model='gemini-1.5-flash-002')\n",
    "\n",
    "def initiate(state: TaskState, config: RunnableConfig):\n",
    "    print(config)\n",
    "    return {'messages': [\n",
    "        SystemMessage(str(system).format(tasks=str(state.tasks), user=state.user, date='Oct 22, 2024')),\n",
    "        HumanMessage('What are my tasks for today/')]\n",
    "           }\n",
    "\n",
    "def chatbot(state: TaskState):\n",
    "    return {\"messages\": [llm.invoke(state.messages)]}"
   ]
  },
  {
   "cell_type": "code",
   "execution_count": 7,
   "id": "c83a2b02-a462-4eb3-83ea-0efeefc2c21f",
   "metadata": {},
   "outputs": [],
   "source": [
    "graph_builder = StateGraph(TaskState)\n",
    "\n",
    "graph_builder.add_node(\"initiate\", initiate)\n",
    "graph_builder.add_node(\"chatbot\", chatbot)\n",
    "graph_builder.add_edge(START, \"initiate\")\n",
    "graph_builder.add_edge(\"initiate\", \"chatbot\")\n",
    "graph_builder.add_edge(\"chatbot\", END)\n",
    "\n",
    "checkpointer = MemorySaver()\n",
    "graph = graph_builder.compile(checkpointer=checkpointer) #, interrupt_before=['chatbot'])"
   ]
  },
  {
   "cell_type": "code",
   "execution_count": 8,
   "id": "9def09a2-a4ca-406e-b5a7-2bb0769ee3a9",
   "metadata": {},
   "outputs": [],
   "source": [
    "config = {\"configurable\": {\"thread_id\": \"42\"}}"
   ]
  },
  {
   "cell_type": "code",
   "execution_count": 9,
   "id": "7a783f96-b524-49c9-a627-bb216b5fc5d5",
   "metadata": {},
   "outputs": [
    {
     "name": "stdout",
     "output_type": "stream",
     "text": [
      "{'metadata': {'thread_id': '42', 'langgraph_step': 1, 'langgraph_node': 'initiate', 'langgraph_triggers': ['start:initiate'], 'langgraph_path': ('__pregel_pull', 'initiate'), 'langgraph_checkpoint_ns': 'initiate:a138ba40-71fe-be6e-3311-bbefab1d6aa0'}, 'configurable': {'thread_id': '42', '__pregel_resuming': False, '__pregel_task_id': 'a138ba40-71fe-be6e-3311-bbefab1d6aa0', '__pregel_send': functools.partial(<function local_write at 0x74c436162020>, <built-in method extend of collections.deque object at 0x74c435f99a80>, dict_keys(['__start__', 'initiate', 'chatbot'])), '__pregel_read': functools.partial(<function local_read at 0x74c436161f80>, 1, {'v': 1, 'ts': '2024-10-29T18:42:08.523563+00:00', 'id': '1ef96258-07a6-64b2-8000-3acb273799d5', 'channel_values': {'user': 'high school student', 'tasks': TaskList(last_update=datetime.datetime(2024, 10, 29, 18, 42, 8, 459629), tasks=[Task(id=1, due=datetime.date(2024, 10, 22), description='submit chemistry homework', status=0), Task(id=2, due=datetime.date(2024, 10, 23), description='second chapter in chemistry texbook', status=0)]), 'start:initiate': '__start__'}, 'channel_versions': {'__start__': '00000000000000000000000000000002.0.31793300253173906', 'user': '00000000000000000000000000000002.0.8253172350412642', 'tasks': '00000000000000000000000000000002.0.4217878901488603', 'start:initiate': '00000000000000000000000000000002.0.09229202469779485'}, 'versions_seen': {'__input__': {}, '__start__': {'__start__': '00000000000000000000000000000001.0.024174417751598676'}}, 'pending_sends': []}, {'user': <langgraph.channels.last_value.LastValue object at 0x74c435f6ec40>, 'tasks': <langgraph.channels.last_value.LastValue object at 0x74c435fceb40>, 'messages': <langgraph.channels.binop.BinaryOperatorAggregate object at 0x74c435fceac0>, '__start__': <langgraph.channels.ephemeral_value.EphemeralValue object at 0x74c435fceb80>, 'initiate': <langgraph.channels.ephemeral_value.EphemeralValue object at 0x74c435fcdfc0>, 'chatbot': <langgraph.channels.ephemeral_value.EphemeralValue object at 0x74c435fcd380>, 'start:initiate': <langgraph.channels.ephemeral_value.EphemeralValue object at 0x74c435fce380>}, {}, PregelTaskWrites(name='initiate', writes=deque([]), triggers=['start:initiate']), {'tags': [], 'metadata': ChainMap({'thread_id': '42'}), 'callbacks': None, 'recursion_limit': 25, 'configurable': {'thread_id': '42', '__pregel_resuming': False}}), '__pregel_store': None, '__pregel_checkpointer': <langgraph.checkpoint.memory.MemorySaver object at 0x74c45451c200>, 'checkpoint_map': {'': '1ef96258-07a6-64b2-8000-3acb273799d5'}, 'checkpoint_id': None, 'checkpoint_ns': 'initiate:a138ba40-71fe-be6e-3311-bbefab1d6aa0'}, 'callbacks': <langchain_core.callbacks.manager.CallbackManager object at 0x74c435f52ea0>}\n"
     ]
    }
   ],
   "source": [
    "response = graph.invoke({'user': 'high school student', 'tasks': l}, config)"
   ]
  },
  {
   "cell_type": "code",
   "execution_count": 14,
   "id": "0d9f7450-930a-4fbe-8ac3-b24f41922bfe",
   "metadata": {},
   "outputs": [
    {
     "data": {
      "text/plain": [
       "\"Based on your current task list, your only task for today, October 22nd, 2024, is to submit your chemistry homework (Task ID #1).  This is due today, so it's your top priority.\\n\\nTo help me better manage your time and workload, could you tell me:\\n\\n* **How long do you estimate it will take to complete the chemistry homework?**  This will help me schedule in other activities.\\n* **Do you have any other commitments or appointments today?** (e.g., extracurricular activities, part-time job, family events)  Knowing this will allow me to create a more realistic schedule.\\n\\nOnce I have this information, I can provide a more detailed and helpful schedule for the rest of your day.\\n\""
      ]
     },
     "execution_count": 14,
     "metadata": {},
     "output_type": "execute_result"
    }
   ],
   "source": [
    "response['messages'][-1].content"
   ]
  },
  {
   "cell_type": "code",
   "execution_count": 10,
   "id": "f4b8b0bb-69fb-4b16-b4c9-0a60a02c0c7e",
   "metadata": {},
   "outputs": [
    {
     "data": {
      "text/plain": [
       "[SystemMessage(content=\"You are an executive assistant to high school student. \\nYour aim is help user manage his/her tasklist and ensure all task completion on time.\\nProvide actionable recommendation on next work with reasonable assumptions of workload you don't know.\\nIf you need more information, ask for it and store it in your memory.\\n\\nToday is Oct 22, 2024.\\nThe tasks are <task><item><id>1</id><due>2024-10-22</due><description>submit chemistry homework</description><status>0</status></item><item><id>2</id><due>2024-10-23</due><description>second chapter in chemistry texbook</description><status>0</status></item></task>\", additional_kwargs={}, response_metadata={}, id='4327877a-c68a-4aba-a13a-5eff6600cb5a'),\n",
       " HumanMessage(content='What are my tasks for today/', additional_kwargs={}, response_metadata={}, id='85eb77c7-913c-4695-b240-8ac9c1019180'),\n",
       " AIMessage(content=\"Based on your current task list, your only task for today, October 22nd, 2024, is to submit your chemistry homework (Task ID #1).  This is due today, so it's your top priority.\\n\\nTo help me better manage your time and workload, could you tell me:\\n\\n* **How long do you estimate it will take to complete the chemistry homework?**  This will help me schedule in other activities.\\n* **Do you have any other commitments or appointments today?** (e.g., extracurricular activities, part-time job, family events)  Knowing this will allow me to create a more realistic schedule.\\n\\nOnce I have this information, I can provide a more detailed and helpful schedule for the rest of your day.\\n\", additional_kwargs={}, response_metadata={'is_blocked': False, 'safety_ratings': [], 'usage_metadata': {'prompt_token_count': 177, 'candidates_token_count': 162, 'total_token_count': 339, 'cached_content_token_count': 0}, 'finish_reason': 'STOP'}, id='run-16d5e77d-2630-412d-a063-daed893dfbd9-0', usage_metadata={'input_tokens': 177, 'output_tokens': 162, 'total_tokens': 339})]"
      ]
     },
     "execution_count": 10,
     "metadata": {},
     "output_type": "execute_result"
    }
   ],
   "source": [
    "graph.get_state(config).values['messages']"
   ]
  },
  {
   "cell_type": "raw",
   "id": "046985d0-22ff-4b44-a93c-72291d7b80d6",
   "metadata": {},
   "source": [
    "def stream_graph_updates(user_input: str):\n",
    "    for event in graph.stream({\"messages\": [(\"user\", user_input)]}):\n",
    "        for value in event.values():\n",
    "            print(\"Assistant:\", value[\"messages\"][-1].content)\n",
    "\n",
    "\n",
    "while True:\n",
    "    try:\n",
    "        user_input = input(\"User: \")\n",
    "        if user_input.lower() in [\"quit\", \"exit\", \"q\"]:\n",
    "            print(\"Goodbye!\")\n",
    "            break\n",
    "\n",
    "        stream_graph_updates(user_input)\n",
    "    except:\n",
    "        # fallback if input() is not available\n",
    "        user_input = \"What do you know about LangGraph?\"\n",
    "        print(\"User: \" + user_input)\n",
    "        stream_graph_updates(user_input)\n",
    "        break\n"
   ]
  },
  {
   "cell_type": "code",
   "execution_count": null,
   "id": "f0e585a7-ef1f-414c-90b8-3f7d95db97a0",
   "metadata": {},
   "outputs": [],
   "source": []
  },
  {
   "cell_type": "code",
   "execution_count": null,
   "id": "2c97d560-a10a-4c99-9f27-05d49651080e",
   "metadata": {},
   "outputs": [],
   "source": []
  }
 ],
 "metadata": {
  "kernelspec": {
   "display_name": "Python 3 (ipykernel)",
   "language": "python",
   "name": "python3"
  },
  "language_info": {
   "codemirror_mode": {
    "name": "ipython",
    "version": 3
   },
   "file_extension": ".py",
   "mimetype": "text/x-python",
   "name": "python",
   "nbconvert_exporter": "python",
   "pygments_lexer": "ipython3",
   "version": "3.12.6"
  }
 },
 "nbformat": 4,
 "nbformat_minor": 5
}
