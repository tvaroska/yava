{
 "cells": [
  {
   "cell_type": "code",
   "execution_count": 1,
   "id": "2b3c3a50-4ac3-4c24-8742-713a7da7047c",
   "metadata": {},
   "outputs": [],
   "source": [
    "from typing import Union\n",
    "\n",
    "from langchain_google_vertexai import VertexAI"
   ]
  },
  {
   "cell_type": "code",
   "execution_count": 2,
   "id": "c5a59de1-3056-46e0-bd6a-667b77292965",
   "metadata": {},
   "outputs": [],
   "source": [
    "def object_to_xml(data: Union[dict, bool], root='object'):\n",
    "    xml = f'<{root}>'\n",
    "    if isinstance(data, dict):\n",
    "        for key, value in data.items():\n",
    "            xml += object_to_xml(value, key)\n",
    "\n",
    "    elif isinstance(data, (list, tuple, set)):\n",
    "        for item in data:\n",
    "            xml += object_to_xml(item, 'item')\n",
    "\n",
    "    else:\n",
    "        xml += str(data)\n",
    "\n",
    "    xml += f'</{root}>'\n",
    "    return xml"
   ]
  },
  {
   "cell_type": "code",
   "execution_count": 3,
   "id": "a1c3da1d-7757-4950-ab18-99393c377e78",
   "metadata": {},
   "outputs": [],
   "source": [
    "tasks = [\n",
    "    {'due':'03/09/2024', 'description': 'submit summer work to physics', 'status': 100},\n",
    "    {'due':'05/09/2024', 'description': 'request move change to AP US History', 'status':0}\n",
    "]"
   ]
  },
  {
   "cell_type": "code",
   "execution_count": 4,
   "id": "13309005-72be-43b1-b9bb-03ba3c81f126",
   "metadata": {},
   "outputs": [
    {
     "data": {
      "text/plain": [
       "'<tasks><item><due>03/09/2024</due><description>submit summer work to physics</description><status>100</status></item><item><due>05/09/2024</due><description>request move change to AP US History</description><status>0</status></item></tasks>'"
      ]
     },
     "execution_count": 4,
     "metadata": {},
     "output_type": "execute_result"
    }
   ],
   "source": [
    "object_to_xml(tasks, 'tasks')"
   ]
  },
  {
   "cell_type": "code",
   "execution_count": 5,
   "id": "4aa2a3ee-600e-4883-ac5b-0fe8c56ff56f",
   "metadata": {},
   "outputs": [],
   "source": [
    "model = VertexAI(model='gemini-1.5-pro-002')"
   ]
  },
  {
   "cell_type": "code",
   "execution_count": 8,
   "id": "98bf7721-39d6-430f-bd0d-541a74985d1e",
   "metadata": {},
   "outputs": [
    {
     "data": {
      "text/plain": [
       "\"29/08; Need to finish summer work for physics. Due next week.\\n30/08; Physics work done! Just need to submit it.\\n01/09; Submit physics work tomorrow.\\n03/09; Submitted physics summer work.\\n03/09; Really not enjoying regular US History.  Need to see about switching to AP.\\n03/09; Ask counselor about switching to APUSH.  Maybe tomorrow?\\n04/09; Totally forgot to talk to counselor. Do it tomorrow for sure.\\n\\n```json\\n[{'due': '03/09/2024', 'description': 'submit summer work to physics', 'status': 100}, {'due': '05/09/2024', 'description': 'request move change to AP US History', 'status': 0}]\\n```\\n\""
      ]
     },
     "execution_count": 8,
     "metadata": {},
     "output_type": "execute_result"
    }
   ],
   "source": [
    "model.invoke(f'Generate potential history of notes from high school student about his tasks. The notes should lead to list of tasks as follows {tasks}. Output format date(dd/mm); note')"
   ]
  },
  {
   "cell_type": "code",
   "execution_count": null,
   "id": "b2ee2785-dee6-4be6-9550-5fc41c514772",
   "metadata": {},
   "outputs": [],
   "source": []
  }
 ],
 "metadata": {
  "kernelspec": {
   "display_name": "Python 3 (ipykernel)",
   "language": "python",
   "name": "python3"
  },
  "language_info": {
   "codemirror_mode": {
    "name": "ipython",
    "version": 3
   },
   "file_extension": ".py",
   "mimetype": "text/x-python",
   "name": "python",
   "nbconvert_exporter": "python",
   "pygments_lexer": "ipython3",
   "version": "3.12.6"
  }
 },
 "nbformat": 4,
 "nbformat_minor": 5
}
