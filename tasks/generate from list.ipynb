{
 "cells": [
  {
   "cell_type": "code",
   "execution_count": 1,
   "id": "2b3c3a50-4ac3-4c24-8742-713a7da7047c",
   "metadata": {},
   "outputs": [],
   "source": [
    "import json\n",
    "\n",
    "from typing import Union, List\n",
    "from pydantic import BaseModel, Field\n",
    "\n",
    "from langchain_google_vertexai import VertexAI, ChatVertexAI"
   ]
  },
  {
   "cell_type": "code",
   "execution_count": 2,
   "id": "ec1d8731-6e04-4766-b68b-fa71a84930c8",
   "metadata": {},
   "outputs": [],
   "source": [
    "class Note(BaseModel):\n",
    "    date: str\n",
    "    note: str\n",
    "\n",
    "class Notes(BaseModel):\n",
    "    # due: List[str]\n",
    "    # description: List[str]\n",
    "    notes: List[Note]"
   ]
  },
  {
   "cell_type": "code",
   "execution_count": 3,
   "id": "c5a59de1-3056-46e0-bd6a-667b77292965",
   "metadata": {},
   "outputs": [],
   "source": [
    "def object_to_xml(data: Union[dict, bool], root='object'):\n",
    "    xml = f'<{root}>'\n",
    "    if isinstance(data, dict):\n",
    "        for key, value in data.items():\n",
    "            xml += object_to_xml(value, key)\n",
    "\n",
    "    elif isinstance(data, (list, tuple, set)):\n",
    "        for item in data:\n",
    "            xml += object_to_xml(item, 'item')\n",
    "\n",
    "    else:\n",
    "        xml += str(data)\n",
    "\n",
    "    xml += f'</{root}>'\n",
    "    return xml"
   ]
  },
  {
   "cell_type": "code",
   "execution_count": 4,
   "id": "a1c3da1d-7757-4950-ab18-99393c377e78",
   "metadata": {},
   "outputs": [],
   "source": [
    "tasks = [\n",
    "    {'due':'03/09/2024', 'description': 'submit summer work to physics', 'status': 100},\n",
    "    {'due':'05/09/2024', 'description': 'request move change to AP US History', 'status':0}\n",
    "]"
   ]
  },
  {
   "cell_type": "code",
   "execution_count": 5,
   "id": "13309005-72be-43b1-b9bb-03ba3c81f126",
   "metadata": {},
   "outputs": [],
   "source": [
    "xml_tasks = object_to_xml(tasks, 'tasks')"
   ]
  },
  {
   "cell_type": "code",
   "execution_count": 6,
   "id": "4aa2a3ee-600e-4883-ac5b-0fe8c56ff56f",
   "metadata": {},
   "outputs": [],
   "source": [
    "pro = ChatVertexAI(model='gemini-1.5-pro-002').with_structured_output(Notes, method='json_mode')"
   ]
  },
  {
   "cell_type": "code",
   "execution_count": 7,
   "id": "1bb48382-0961-41eb-8e5f-704995b8fdc6",
   "metadata": {},
   "outputs": [],
   "source": [
    "USER = 'high school student'"
   ]
  },
  {
   "cell_type": "code",
   "execution_count": 8,
   "id": "9e45a71a-b49e-48fc-a165-0717c22c7c23",
   "metadata": {},
   "outputs": [],
   "source": [
    "PROMPT = f\"\"\"You are generating synthetic data for testing task management application. The application will take informal notes from the user and create list of tasks with due dates.\n",
    "You need to create list of notes with date on when the note was recorded and actual note text. Create at least 5 notes, some to create task and some to update status of the task. Each note should have at least two tasks\n",
    "You user is {USER}.\n",
    "The application should convert those notes into list of tasks:\n",
    "{xml_tasks}\n",
    "\"\"\""
   ]
  },
  {
   "cell_type": "code",
   "execution_count": 9,
   "id": "7a90f30a-2c04-4598-b550-ae2b059efbda",
   "metadata": {},
   "outputs": [],
   "source": [
    "for i in range(10):\n",
    "    response = pro.invoke(PROMPT)\n",
    "    with open(f'tasks-{i+1}.json', 'w+') as f:\n",
    "        json.dump(response.json(), f)"
   ]
  },
  {
   "cell_type": "code",
   "execution_count": null,
   "id": "98bf7721-39d6-430f-bd0d-541a74985d1e",
   "metadata": {},
   "outputs": [],
   "source": []
  },
  {
   "cell_type": "code",
   "execution_count": null,
   "id": "e255f5f7-4372-4a5e-95fe-218fb8d36f74",
   "metadata": {},
   "outputs": [],
   "source": []
  }
 ],
 "metadata": {
  "kernelspec": {
   "display_name": "Python 3 (ipykernel)",
   "language": "python",
   "name": "python3"
  },
  "language_info": {
   "codemirror_mode": {
    "name": "ipython",
    "version": 3
   },
   "file_extension": ".py",
   "mimetype": "text/x-python",
   "name": "python",
   "nbconvert_exporter": "python",
   "pygments_lexer": "ipython3",
   "version": "3.12.6"
  }
 },
 "nbformat": 4,
 "nbformat_minor": 5
}
