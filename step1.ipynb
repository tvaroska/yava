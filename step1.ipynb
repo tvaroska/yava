{
 "cells": [
  {
   "cell_type": "markdown",
   "id": "f879ff10-443c-43a5-8bed-2824c0360be1",
   "metadata": {},
   "source": [
    "# Test to generate document from existing structure\n",
    "\n",
    "[x] Define structure as Pydantic object\n",
    "\n",
    "[ ] Define subclasses for tools, facts and sections\n",
    "\n",
    "[ ] Tools\n",
    "\n",
    "[ ] Direct generation\n",
    "\n",
    "\n",
    "\n",
    "Tools - extract information form PDF is pretty brittle, let's do tools directly\n",
    "Gemini multimodel - "
   ]
  },
  {
   "cell_type": "code",
   "execution_count": 15,
   "id": "2038d7bc-0a8b-4a9c-b611-44e79bea75de",
   "metadata": {},
   "outputs": [],
   "source": [
    "from typing import List, Literal\n",
    "\n",
    "from langchain_core.messages import SystemMessage, HumanMessage, ToolMessage\n",
    "from langchain_core.pydantic_v1 import BaseModel, Field\n",
    "from langchain_core.tools import tool\n",
    "from langchain_core.prompts import ChatPromptTemplate\n",
    "\n",
    "from langchain_google_vertexai import ChatVertexAI"
   ]
  },
  {
   "cell_type": "code",
   "execution_count": 67,
   "id": "f459a3f6-f25e-4992-b3b2-e2fc6d688cbe",
   "metadata": {},
   "outputs": [],
   "source": [
    "llm = ChatVertexAI(model_name='gemini-1.5-pro-001', temperature=0)"
   ]
  },
  {
   "cell_type": "code",
   "execution_count": 77,
   "id": "e8f73873-932e-4df2-b0b7-3c332f4777ec",
   "metadata": {},
   "outputs": [],
   "source": [
    "class Section(BaseModel):\n",
    "    name: str\n",
    "    description: str\n",
    "\n",
    "class Report(BaseModel):\n",
    "    name: str = Field(description='Name of the report', required=True)\n",
    "    description: str = Field(description='Description of the report, this field is used to search the right structure for the request')\n",
    "    tools: List[str]\n",
    "    facts: List[str]\n",
    "    sections: List[Section]"
   ]
  },
  {
   "cell_type": "code",
   "execution_count": 79,
   "id": "86a9c2ab-6cb6-4244-bf1d-b84a17037fec",
   "metadata": {},
   "outputs": [],
   "source": [
    "stock_report = Report(\n",
    "    name='Stocks',\n",
    "    description='Simple report on last',\n",
    "    tools = ['get_info'],\n",
    "    facts = ['revenues'],\n",
    "    sections = [\n",
    "        Section(name = 'Revenue', description='Comparision of revenue between current and previous quarters and the same quarter of current and last year')\n",
    "    ]\n",
    ")"
   ]
  },
  {
   "cell_type": "code",
   "execution_count": 70,
   "id": "85345f7f-4a2b-4925-836d-579f2e41c909",
   "metadata": {},
   "outputs": [],
   "source": [
    "@tool\n",
    "def get_info(kpi: str, q: Literal['Q12024', 'Q22024', 'Q12023', 'Q22023']):\n",
    "    \"\"\"\n",
    "    Get Financial information about Alphabet\n",
    "    \"\"\"\n",
    "    data = {\n",
    "        'Q12024': 80539,\n",
    "        'Q12023': 69787,\n",
    "        'Q22024': 84742,\n",
    "        'Q22023': 74604\n",
    "    }\n",
    "\n",
    "    return f'{data[q]}'"
   ]
  },
  {
   "cell_type": "code",
   "execution_count": 71,
   "id": "41f5f5f8-da41-4f1b-a0d7-0f2d831faece",
   "metadata": {},
   "outputs": [],
   "source": [
    "llm_tools = llm.bind_tools(tools = [get_info])"
   ]
  },
  {
   "cell_type": "code",
   "execution_count": 72,
   "id": "1d8521f6-8fcd-4274-9880-8ff4888a16b1",
   "metadata": {},
   "outputs": [],
   "source": [
    "response1 = llm_tools.invoke('Compare Alphabet revenue from Q2 this year to last year')"
   ]
  },
  {
   "cell_type": "code",
   "execution_count": 73,
   "id": "44f5da5a-2b6d-4acb-a3e2-79b5a75bb49e",
   "metadata": {},
   "outputs": [],
   "source": [
    "messages.append(response1)\n",
    "\n",
    "for tool_call in response1.tool_calls:\n",
    "    selected_tool = {\"get_info\": get_info}[tool_call[\"name\"].lower()]\n",
    "    tool_output = selected_tool.invoke(tool_call[\"args\"])\n",
    "    messages.append(ToolMessage(tool_output, tool_call_id=tool_call[\"id\"]))"
   ]
  },
  {
   "cell_type": "code",
   "execution_count": 74,
   "id": "5a0cd901-5afd-49d8-8683-4305718e870c",
   "metadata": {},
   "outputs": [],
   "source": [
    "response2 = llm_tools.invoke(messages)"
   ]
  },
  {
   "cell_type": "markdown",
   "id": "8145089f-68b3-460d-afb1-19692da18a5d",
   "metadata": {},
   "source": [
    "### Using KPI to create response\n",
    "\n",
    "Pure function calling responses does create challenges - already prepared KPIs (from another sections), format, etc\n",
    "\n",
    "Another possible aproach - create XML with all KPIs as text and then request model to generate text\n",
    "\n",
    "Example:\n",
    "```\n",
    "<REVENUE UNIT=\"milion $\">\n",
    "\t<Q22024>110</Q22024>\n",
    "\t<Q22023>100</Q22023>\n",
    "<REVENUE>\n",
    "\n",
    "```\n",
    "\n",
    "potential way to work with xml - xmltodict"
   ]
  },
  {
   "cell_type": "code",
   "execution_count": 75,
   "id": "ec51648b-efd7-463e-a9e3-2de6fcd597e9",
   "metadata": {},
   "outputs": [
    {
     "data": {
      "text/plain": [
       "AIMessage(content='', additional_kwargs={'function_call': {'name': 'get_info', 'arguments': '{\"kpi\": \"Operating Income\", \"q\": \"Q22024\"}'}}, response_metadata={'is_blocked': False, 'safety_ratings': [{'category': 'HARM_CATEGORY_HATE_SPEECH', 'probability_label': 'NEGLIGIBLE', 'blocked': False, 'severity': 'HARM_SEVERITY_NEGLIGIBLE'}, {'category': 'HARM_CATEGORY_DANGEROUS_CONTENT', 'probability_label': 'NEGLIGIBLE', 'blocked': False, 'severity': 'HARM_SEVERITY_LOW'}, {'category': 'HARM_CATEGORY_HARASSMENT', 'probability_label': 'NEGLIGIBLE', 'blocked': False, 'severity': 'HARM_SEVERITY_NEGLIGIBLE'}, {'category': 'HARM_CATEGORY_SEXUALLY_EXPLICIT', 'probability_label': 'NEGLIGIBLE', 'blocked': False, 'severity': 'HARM_SEVERITY_NEGLIGIBLE'}], 'usage_metadata': {'prompt_token_count': 203, 'candidates_token_count': 13, 'total_token_count': 216}, 'finish_reason': 'STOP'}, id='run-7661af62-d4ec-4d4b-ad70-bcdd4ee7240d-0', tool_calls=[{'name': 'get_info', 'args': {'kpi': 'Operating Income', 'q': 'Q22024'}, 'id': '1e8954e8-f4d0-455f-b4ee-be5d8e28ca83', 'type': 'tool_call'}], usage_metadata={'input_tokens': 203, 'output_tokens': 13, 'total_tokens': 216})"
      ]
     },
     "execution_count": 75,
     "metadata": {},
     "output_type": "execute_result"
    }
   ],
   "source": [
    "response2"
   ]
  },
  {
   "cell_type": "markdown",
   "id": "7bcc6354-e931-4c5f-92f8-457acd15d6b6",
   "metadata": {},
   "source": [
    "# Gemini multimodel with PDF on local disk\n",
    "\n",
    "```\n",
    "with open('2024q1-alphabet-earnings-release-pdf.pdf', 'rb') as f:\n",
    "    data = f.read()\n",
    "\n",
    "\n",
    "pdf_message = {\n",
    "    \"type\": \"media\",\n",
    "    \"mime_type\": \"application/pdf\",\n",
    "    \"data\": data,\n",
    "}\n",
    "\n",
    "text_message = {\n",
    "    \"type\": \"text\",\n",
    "    \"text\": \"What was Operating income in Q1 2024 and on which page it is mentioned?\",\n",
    "}\n",
    "\n",
    "messages = HumanMessage(content=[pdf_message, text_message])\n",
    "```"
   ]
  },
  {
   "cell_type": "code",
   "execution_count": 47,
   "id": "e60facb2-0e5a-40c9-ba34-2c64606a8e3d",
   "metadata": {},
   "outputs": [
    {
     "name": "stderr",
     "output_type": "stream",
     "text": [
      "This model can reply with multiple function calls in one response. Please don't rely on `additional_kwargs.function_call` as only the last one will be saved.Use `tool_calls` instead.\n"
     ]
    },
    {
     "name": "stdout",
     "output_type": "stream",
     "text": [
      "[HumanMessage(content='What is 3 * 12? Also, what is 11 + 49?'), AIMessage(content='', additional_kwargs={'function_call': {'name': 'add', 'arguments': '{\"a\": 11.0, \"b\": 49.0}'}}, response_metadata={'is_blocked': False, 'safety_ratings': [{'category': 'HARM_CATEGORY_HATE_SPEECH', 'probability_label': 'NEGLIGIBLE', 'blocked': False, 'severity': 'HARM_SEVERITY_NEGLIGIBLE'}, {'category': 'HARM_CATEGORY_DANGEROUS_CONTENT', 'probability_label': 'NEGLIGIBLE', 'blocked': False, 'severity': 'HARM_SEVERITY_NEGLIGIBLE'}, {'category': 'HARM_CATEGORY_HARASSMENT', 'probability_label': 'NEGLIGIBLE', 'blocked': False, 'severity': 'HARM_SEVERITY_NEGLIGIBLE'}, {'category': 'HARM_CATEGORY_SEXUALLY_EXPLICIT', 'probability_label': 'NEGLIGIBLE', 'blocked': False, 'severity': 'HARM_SEVERITY_NEGLIGIBLE'}], 'usage_metadata': {'prompt_token_count': 74, 'candidates_token_count': 6, 'total_token_count': 80}, 'finish_reason': 'STOP'}, id='run-2a6286b8-f8c3-4f63-b647-c0c4390430ac-0', tool_calls=[{'name': 'multiply', 'args': {'a': 3.0, 'b': 12.0}, 'id': 'f7911776-3f83-4095-9b33-9df2add3ad2b', 'type': 'tool_call'}, {'name': 'add', 'args': {'a': 11.0, 'b': 49.0}, 'id': 'c3c9ac10-763e-4969-982a-90a316c98b4e', 'type': 'tool_call'}], usage_metadata={'input_tokens': 74, 'output_tokens': 6, 'total_tokens': 80}), ToolMessage(content='36', tool_call_id='f7911776-3f83-4095-9b33-9df2add3ad2b'), ToolMessage(content='60', tool_call_id='c3c9ac10-763e-4969-982a-90a316c98b4e')]\n"
     ]
    }
   ],
   "source": [
    "@tool\n",
    "def add(a: int, b: int) -> int:\n",
    "    \"\"\"Adds a and b.\n",
    "\n",
    "    Args:\n",
    "        a: first int\n",
    "        b: second int\n",
    "    \"\"\"\n",
    "    return a + b\n",
    "\n",
    "\n",
    "@tool\n",
    "def multiply(a: int, b: int) -> int:\n",
    "    \"\"\"Multiplies a and b.\n",
    "\n",
    "    Args:\n",
    "        a: first int\n",
    "        b: second int\n",
    "    \"\"\"\n",
    "    return a * b\n",
    "\n",
    "query = \"What is 3 * 12? Also, what is 11 + 49?\"\n",
    "\n",
    "tools = [add, multiply]\n",
    "llm_with_tools = llm.bind_tools(tools)\n",
    "\n",
    "messages = [HumanMessage(query)]\n",
    "ai_msg = llm_with_tools.invoke(messages)\n",
    "messages.append(ai_msg)\n",
    "\n",
    "for tool_call in ai_msg.tool_calls:\n",
    "    selected_tool = {\"add\": add, \"multiply\": multiply}[tool_call[\"name\"].lower()]\n",
    "    tool_output = selected_tool.invoke(tool_call[\"args\"])\n",
    "    messages.append(ToolMessage(tool_output, tool_call_id=tool_call[\"id\"]))\n",
    "\n",
    "print(messages)\n",
    "\n",
    "response = llm.invoke(messages)"
   ]
  },
  {
   "cell_type": "code",
   "execution_count": 49,
   "id": "11375772-3983-4eb9-8259-b19c19415191",
   "metadata": {},
   "outputs": [
    {
     "data": {
      "text/plain": [
       "ToolMessage(content='60', tool_call_id='c3c9ac10-763e-4969-982a-90a316c98b4e')"
      ]
     },
     "execution_count": 49,
     "metadata": {},
     "output_type": "execute_result"
    }
   ],
   "source": [
    "messages[3]"
   ]
  },
  {
   "cell_type": "code",
   "execution_count": null,
   "id": "91e86dfb-769e-4205-b20f-9570b368bb23",
   "metadata": {},
   "outputs": [],
   "source": []
  }
 ],
 "metadata": {
  "kernelspec": {
   "display_name": "Python 3 (ipykernel)",
   "language": "python",
   "name": "python3"
  },
  "language_info": {
   "codemirror_mode": {
    "name": "ipython",
    "version": 3
   },
   "file_extension": ".py",
   "mimetype": "text/x-python",
   "name": "python",
   "nbconvert_exporter": "python",
   "pygments_lexer": "ipython3",
   "version": "3.11.0rc1"
  }
 },
 "nbformat": 4,
 "nbformat_minor": 5
}
