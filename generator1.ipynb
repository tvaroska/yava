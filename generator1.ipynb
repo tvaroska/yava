{
 "cells": [
  {
   "cell_type": "markdown",
   "id": "86ff1629-6a32-40d6-b064-b07ddd5cfe8c",
   "metadata": {},
   "source": [
    "# Generator step 1 - Initial data finding\n",
    "\n",
    "[x] Function calling\n",
    "\n",
    "[ ] Some way to manage facts - add results from tools calls, convert to XML, ...\n",
    "\n",
    "[ ] Test if we have unfilled facts and or we got some new info in the last update (in previous task)\n",
    "\n",
    "[ ] Add source info for each stored fact\n",
    "\n",
    "[ ] Iteratively fill the fact sheet - convert from chain to graph\n",
    "\n",
    "\n",
    "The compiler needs to add some internal facts - in this case customer ID."
   ]
  },
  {
   "cell_type": "code",
   "execution_count": 17,
   "id": "e71333b9-6a4f-4a0c-881d-5be22f7a6092",
   "metadata": {},
   "outputs": [],
   "source": [
    "ASSET_REPORT = {\n",
    "    'facts':{\n",
    "        'today': 'Current date',\n",
    "        'portfolio_today': 'List of holdings on specific day',\n",
    "        'portfolio_last': 'List of holdings one month before report day',\n",
    "        'client_id': 'Numerical ID for client'\n",
    "    }\n",
    "}"
   ]
  },
  {
   "cell_type": "code",
   "execution_count": 2,
   "id": "3df39823-f20f-4dd8-a515-2b19d306f1f5",
   "metadata": {},
   "outputs": [],
   "source": [
    "from langchain_core.tools import tool\n",
    "\n",
    "from langchain_core.prompts import ChatPromptTemplate\n",
    "from langchain_core.messages import SystemMessage, HumanMessage\n",
    "from langchain_google_vertexai import ChatVertexAI\n",
    "from langchain_google_vertexai.model_garden import ChatAnthropicVertex\n",
    "\n",
    "from yava.models import ToolDef, Tools"
   ]
  },
  {
   "cell_type": "code",
   "execution_count": 3,
   "id": "1581a2a3-3270-409d-af83-1b10360b7a59",
   "metadata": {},
   "outputs": [],
   "source": [
    "from datetime import date\n",
    "\n",
    "@tool\n",
    "def current_date() -> date:\n",
    "    \"\"\"\n",
    "    Return today`s date\n",
    "    \"\"\"\n",
    "    return date.today()"
   ]
  },
  {
   "cell_type": "code",
   "execution_count": 4,
   "id": "ea9f8b59-2c91-42da-831c-5de559bcc097",
   "metadata": {},
   "outputs": [],
   "source": [
    "@tool\n",
    "def get_customer_id(name: str) -> int:\n",
    "    \"\"\"\n",
    "    Get client id from the name\n",
    "    \"\"\"\n",
    "    return 1"
   ]
  },
  {
   "cell_type": "code",
   "execution_count": 5,
   "id": "fd329c5e-4531-4746-b532-4f312602e0b6",
   "metadata": {},
   "outputs": [],
   "source": [
    "@tool\n",
    "def holdings(customer: str, day: date):\n",
    "    \"\"\"\n",
    "    Get list of holdings of client on specific day\n",
    "    \"\"\"\n",
    "    if day.date >= 8:\n",
    "        return [{'symbol': 'GOOGL',  'quantity': 100, 'cost_basis': 110}]       \n",
    "    else:\n",
    "        return [{'symbol': 'GOOGL',  'quantity': 90, 'cost_basis': 105}]       "
   ]
  },
  {
   "cell_type": "code",
   "execution_count": 6,
   "id": "15c7cf7a-4a53-4069-9c7d-d05b2e6c570e",
   "metadata": {},
   "outputs": [],
   "source": [
    "tools = Tools(tools = {\n",
    "    current_date.name : ToolDef(tool = current_date, output = 'today'),\n",
    "    get_customer_id.name: ToolDef(tool = get_customer_id, output = 'customer_id'),\n",
    "    holdings.name : ToolDef(tool = holdings, output = 'portfolio_today')\n",
    "})"
   ]
  },
  {
   "cell_type": "code",
   "execution_count": 7,
   "id": "4e799afd-f52e-4c3d-8304-778dee3550b1",
   "metadata": {},
   "outputs": [],
   "source": [
    "gemini = ChatVertexAI(model_name='gemini-1.5-pro-001')\n",
    "sonnet = ChatAnthropicVertex(model='claude-3-5-sonnet@20240620', location='us-east5')"
   ]
  },
  {
   "cell_type": "code",
   "execution_count": 8,
   "id": "27656d37-e06a-4f72-a759-30c0236c5346",
   "metadata": {},
   "outputs": [],
   "source": [
    "facts = '''<FACT><NAME>today</NAME><DESCRIPTION>Today`s date</DESCRIPTION></FACT>\n",
    "<FACT><NAME>client_id</NAME><DESCRIPTION>Cliend ID</DESCRIPTION><FACT>\n",
    "<FACT><NAME>portfolio_today</NAME><DESCRIPTION>List of holdings on specific day</DESCRIPTION></FACT>\n",
    "'''"
   ]
  },
  {
   "cell_type": "code",
   "execution_count": 9,
   "id": "40005ac7-24ff-4e96-a633-14311687c90b",
   "metadata": {},
   "outputs": [],
   "source": [
    "prompt = ChatPromptTemplate(\n",
    "    messages=[\n",
    "        ('system', 'You are an assistant collecting data for an report. Gather facts to fill in facts structure. Request only unknown facts'),\n",
    "        ('user', 'Create asset report for {customer}\\nKnown facts: {known}. All facts: {facts}')\n",
    "    ]\n",
    ")"
   ]
  },
  {
   "cell_type": "code",
   "execution_count": 10,
   "id": "a9f6d28e-899b-4b86-b6b8-ece462b65d98",
   "metadata": {},
   "outputs": [],
   "source": [
    "chain = prompt | gemini.bind_tools(tools.get_tools())"
   ]
  },
  {
   "cell_type": "code",
   "execution_count": 15,
   "id": "3c16124f-6a28-4dda-9673-57f29dc2d495",
   "metadata": {},
   "outputs": [],
   "source": [
    "response = chain.invoke(input={'customer': 'Boris', 'facts' : facts, 'known': '<today>08/12/2024</today><customer_id>1</customer_id>'})"
   ]
  },
  {
   "cell_type": "code",
   "execution_count": 16,
   "id": "a3fa6605-c4e3-43b6-b3c5-c02b61b22ad6",
   "metadata": {},
   "outputs": [
    {
     "data": {
      "text/plain": [
       "[{'name': 'holdings',\n",
       "  'args': {'day': '08/12/2024', 'customer': '1'},\n",
       "  'id': 'e7aca2f2-61dd-4766-a2a2-65999833f758',\n",
       "  'type': 'tool_call'}]"
      ]
     },
     "execution_count": 16,
     "metadata": {},
     "output_type": "execute_result"
    }
   ],
   "source": [
    "response.tool_calls"
   ]
  },
  {
   "cell_type": "code",
   "execution_count": null,
   "id": "9d09a364-452a-4e75-8f60-0e9b07430b15",
   "metadata": {},
   "outputs": [],
   "source": []
  },
  {
   "cell_type": "code",
   "execution_count": null,
   "id": "88d9826e-9b7a-411e-aacf-44bfc8df9518",
   "metadata": {},
   "outputs": [],
   "source": []
  }
 ],
 "metadata": {
  "kernelspec": {
   "display_name": "Python 3 (ipykernel)",
   "language": "python",
   "name": "python3"
  },
  "language_info": {
   "codemirror_mode": {
    "name": "ipython",
    "version": 3
   },
   "file_extension": ".py",
   "mimetype": "text/x-python",
   "name": "python",
   "nbconvert_exporter": "python",
   "pygments_lexer": "ipython3",
   "version": "3.11.0rc1"
  }
 },
 "nbformat": 4,
 "nbformat_minor": 5
}
