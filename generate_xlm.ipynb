{
 "cells": [
  {
   "cell_type": "code",
   "execution_count": 21,
   "id": "ab6ec791-4c8e-48ca-88a3-b240d0f0a0ea",
   "metadata": {},
   "outputs": [],
   "source": [
    "from xml.etree import ElementTree as ET\n",
    "\n",
    "from langchain_core.prompts import ChatPromptTemplate\n",
    "from langchain_core.messages import HumanMessage, SystemMessage\n",
    "\n",
    "from langchain_google_vertexai import ChatVertexAI"
   ]
  },
  {
   "cell_type": "code",
   "execution_count": 27,
   "id": "9f1da266-878e-4226-b857-0dbc8f6c7424",
   "metadata": {},
   "outputs": [],
   "source": [
    "SYSTEM_PROMPT = \"\"\"Generate text from user request. Use Markdown\n",
    "\"\"\""
   ]
  },
  {
   "cell_type": "code",
   "execution_count": 28,
   "id": "cc2288cd-8009-4687-adfc-4013defda4f5",
   "metadata": {},
   "outputs": [],
   "source": [
    "USER_PROMPT = \"Create outline for article about Trnava, city in Slovakia.\""
   ]
  },
  {
   "cell_type": "code",
   "execution_count": 29,
   "id": "26262b38-7ada-4c8d-8bdc-8a59b54cec75",
   "metadata": {},
   "outputs": [],
   "source": [
    "message = [\n",
    "    SystemMessage(SYSTEM_PROMPT),\n",
    "    HumanMessage(USER_PROMPT)\n",
    "]"
   ]
  },
  {
   "cell_type": "code",
   "execution_count": 30,
   "id": "3a85d906-f57a-42ec-b605-29beb72b1d7a",
   "metadata": {},
   "outputs": [],
   "source": [
    "llm = ChatVertexAI(model_name='gemini-1.5-flash-001')"
   ]
  },
  {
   "cell_type": "code",
   "execution_count": 31,
   "id": "a49175c5-a64f-45b1-9ec9-cf4429370c0a",
   "metadata": {},
   "outputs": [],
   "source": [
    "text = llm.invoke(message).content"
   ]
  },
  {
   "cell_type": "code",
   "execution_count": 32,
   "id": "846a7d56-0d9a-4b6f-ab0c-c8c68832f958",
   "metadata": {},
   "outputs": [
    {
     "data": {
      "text/plain": [
       "\"## Trnava: A Gem in the Heart of Slovakia\\n\\n**I. Introduction**\\n   * Briefly introduce Trnava, Slovakia's historical and cultural gem.\\n   * Highlight its significance as a former royal city and its recent surge in popularity.\\n   * State the article's purpose: To explore the city's charm, attractions, and why it should be on every traveler's list.\\n\\n**II. A Glimpse into History**\\n   * Discuss Trnava's rich past, including its founding, its role as an important trading center, and its elevation to royal city status.\\n   * Mention the city's religious significance as the center of the Archdiocese of Trnava and its connection to the Jesuit order.\\n   * Touch on the city's development through the centuries, highlighting key events and their impact on the city's character.\\n\\n**III. Exploring the City's Treasures**\\n   * **Historic Center:** \\n      * Emphasize Trnava's well-preserved historic center, a UNESCO World Heritage Site contender.\\n      * Highlight key landmarks like the St. Nicholas Cathedral, the University of Trnava, and the Trnava City Hall.\\n      * Mention the vibrant, pedestrian-friendly atmosphere of the main square and the charming cobblestone streets.\\n   * **Cultural Delights:** \\n      * Discuss Trnava's rich cultural scene, with emphasis on its museums, theaters, and art galleries.\\n      * Mention its renowned winemaking tradition and the opportunity to sample local wines at various wineries.\\n      * Highlight the city's vibrant nightlife with its charming pubs, cafes, and restaurants offering traditional Slovak cuisine and international flavors.\\n   * **Beyond the City Center:** \\n      * Briefly explore nearby attractions like the thermal baths in Piešťany, the Slovak Wine Route, or the historical castle in Čachtice.\\n      * Recommend day trips from Trnava, emphasizing the easy access to other Slovak cities like Bratislava or Nitra.\\n\\n**IV. Practical Information for Travelers**\\n   * Provide practical information for visitors, including:\\n      * Getting there: Transportation options, including by plane, train, or car.\\n      * Where to stay: Options for accommodation, from budget-friendly hostels to luxury hotels.\\n      * Where to eat: Recommendations for traditional Slovak cuisine and international dining experiences.\\n      * Useful tips for navigating the city, including language barriers and currency exchange.\\n\\n**V. Conclusion**\\n   * Reiterate Trnava's charm and appeal as a destination rich in history, culture, and vibrant atmosphere.\\n   * Encourage readers to experience this hidden gem and discover its unique magic.\\n   * Leave a lasting impression by mentioning the city's future prospects and its potential to attract even more visitors in the years to come. \\n\""
      ]
     },
     "execution_count": 32,
     "metadata": {},
     "output_type": "execute_result"
    }
   ],
   "source": [
    "text"
   ]
  },
  {
   "cell_type": "code",
   "execution_count": null,
   "id": "73613fb2-b323-4773-a8e8-f90ea03167d5",
   "metadata": {},
   "outputs": [],
   "source": []
  }
 ],
 "metadata": {
  "kernelspec": {
   "display_name": "Python 3 (ipykernel)",
   "language": "python",
   "name": "python3"
  },
  "language_info": {
   "codemirror_mode": {
    "name": "ipython",
    "version": 3
   },
   "file_extension": ".py",
   "mimetype": "text/x-python",
   "name": "python",
   "nbconvert_exporter": "python",
   "pygments_lexer": "ipython3",
   "version": "3.11.0rc1"
  }
 },
 "nbformat": 4,
 "nbformat_minor": 5
}
